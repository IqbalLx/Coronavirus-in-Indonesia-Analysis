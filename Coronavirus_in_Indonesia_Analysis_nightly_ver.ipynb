{
  "nbformat": 4,
  "nbformat_minor": 0,
  "metadata": {
    "colab": {
      "name": "Copy of Coronavirus in Indonesia Analysis-with-optimizer.ipynb",
      "provenance": [],
      "collapsed_sections": [],
      "toc_visible": true,
      "include_colab_link": true
    },
    "kernelspec": {
      "name": "python3",
      "display_name": "Python 3"
    }
  },
  "cells": [
    {
      "cell_type": "markdown",
      "metadata": {
        "id": "view-in-github",
        "colab_type": "text"
      },
      "source": [
        "<a href=\"https://colab.research.google.com/github/IqbalLx/Coronavirus-in-Indonesia-Analysis/blob/master/Coronavirus_in_Indonesia_Analysis_nightly_ver.ipynb\" target=\"_parent\"><img src=\"https://colab.research.google.com/assets/colab-badge.svg\" alt=\"Open In Colab\"/></a>"
      ]
    },
    {
      "cell_type": "markdown",
      "metadata": {
        "id": "-gTSQdnqLbXX",
        "colab_type": "text"
      },
      "source": [
        "# Preparing the Dataset\n",
        "\n",
        "To download a file, go to https://kawalcovid19.blob.core.windows.net/viz/statistik_harian.html. In the top right corner of \"Kasus Harian\" plotting, there is three horizontal dots that contains exporting data. Choose `.csv` and save in your local folder. Run the below cell, and upload that `.csv` file."
      ]
    },
    {
      "cell_type": "code",
      "metadata": {
        "id": "Eba9qJaXLNGE",
        "colab_type": "code",
        "outputId": "abdcb70c-442b-49f7-e2d2-549f50e357f1",
        "colab": {
          "resources": {
            "http://localhost:8080/nbextensions/google.colab/files.js": {
              "data": "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",
              "ok": true,
              "headers": [
                [
                  "content-type",
                  "application/javascript"
                ]
              ],
              "status": 200,
              "status_text": "OK"
            }
          },
          "base_uri": "https://localhost:8080/",
          "height": 80
        }
      },
      "source": [
        "from google.colab import files\n",
        "uploaded = files.upload() #Data from kawalcovid19.id"
      ],
      "execution_count": 5,
      "outputs": [
        {
          "output_type": "display_data",
          "data": {
            "text/html": [
              "\n",
              "     <input type=\"file\" id=\"files-cdc9c09c-be5e-4e23-8868-5b82c0e676af\" name=\"files[]\" multiple disabled />\n",
              "     <output id=\"result-cdc9c09c-be5e-4e23-8868-5b82c0e676af\">\n",
              "      Upload widget is only available when the cell has been executed in the\n",
              "      current browser session. Please rerun this cell to enable.\n",
              "      </output>\n",
              "      <script src=\"/nbextensions/google.colab/files.js\"></script> "
            ],
            "text/plain": [
              "<IPython.core.display.HTML object>"
            ]
          },
          "metadata": {
            "tags": []
          }
        },
        {
          "output_type": "stream",
          "text": [
            "Saving Kasus Harian-2020-04-21.csv to Kasus Harian-2020-04-21.csv\n"
          ],
          "name": "stdout"
        }
      ]
    },
    {
      "cell_type": "code",
      "metadata": {
        "id": "DMymKgZlR43H",
        "colab_type": "code",
        "outputId": "db3a1d06-3cac-4365-bdc6-9b85c069901d",
        "colab": {
          "base_uri": "https://localhost:8080/",
          "height": 35
        }
      },
      "source": [
        "# verify last date\n",
        "val_list = [val for val in uploaded.values()][0]\n",
        "last_date = val_list.decode().split('\\n')[-2]\n",
        "print(last_date)"
      ],
      "execution_count": 6,
      "outputs": [
        {
          "output_type": "stream",
          "text": [
            "2020-04-21 00:00:00,7135,375,95,26\r\n"
          ],
          "name": "stdout"
        }
      ]
    },
    {
      "cell_type": "code",
      "metadata": {
        "id": "4LiUd0EEM2Gc",
        "colab_type": "code",
        "outputId": "2417de5a-f30b-41e9-e8c2-b3c01ebb899a",
        "colab": {
          "base_uri": "https://localhost:8080/",
          "height": 35
        }
      },
      "source": [
        "filenames = [key for key in uploaded.keys()]\n",
        "filenames[0]"
      ],
      "execution_count": 7,
      "outputs": [
        {
          "output_type": "execute_result",
          "data": {
            "text/plain": [
              "'Kasus Harian-2020-04-21.csv'"
            ]
          },
          "metadata": {
            "tags": []
          },
          "execution_count": 7
        }
      ]
    },
    {
      "cell_type": "code",
      "metadata": {
        "id": "nSwklAqvLjX1",
        "colab_type": "code",
        "colab": {}
      },
      "source": [
        "import pandas as pd\n",
        "import numpy as np\n",
        "import datetime\n",
        "\n",
        "import plotly.graph_objs as go\n",
        "import matplotlib.pyplot as plt\n",
        "\n",
        "from sklearn.svm import SVR\n",
        "from scipy.integrate import odeint\n",
        "from scipy.optimize import minimize\n",
        "from sklearn.metrics import mean_squared_error as mse"
      ],
      "execution_count": 0,
      "outputs": []
    },
    {
      "cell_type": "code",
      "metadata": {
        "id": "K57j_wwkLvKr",
        "colab_type": "code",
        "outputId": "28466ee8-3dc0-4d97-9417-248432502451",
        "colab": {
          "base_uri": "https://localhost:8080/",
          "height": 224
        }
      },
      "source": [
        "df = pd.read_csv(filenames[0])\n",
        "print(df.shape)\n",
        "df.head()"
      ],
      "execution_count": 9,
      "outputs": [
        {
          "output_type": "stream",
          "text": [
            "(51, 5)\n"
          ],
          "name": "stdout"
        },
        {
          "output_type": "execute_result",
          "data": {
            "text/html": [
              "<div>\n",
              "<style scoped>\n",
              "    .dataframe tbody tr th:only-of-type {\n",
              "        vertical-align: middle;\n",
              "    }\n",
              "\n",
              "    .dataframe tbody tr th {\n",
              "        vertical-align: top;\n",
              "    }\n",
              "\n",
              "    .dataframe thead th {\n",
              "        text-align: right;\n",
              "    }\n",
              "</style>\n",
              "<table border=\"1\" class=\"dataframe\">\n",
              "  <thead>\n",
              "    <tr style=\"text-align: right;\">\n",
              "      <th></th>\n",
              "      <th>DT</th>\n",
              "      <th>Kasus (Kumulatif)</th>\n",
              "      <th>Kasus Baru</th>\n",
              "      <th>Sembuh (baru)</th>\n",
              "      <th>Meninggal (baru)</th>\n",
              "    </tr>\n",
              "  </thead>\n",
              "  <tbody>\n",
              "    <tr>\n",
              "      <th>0</th>\n",
              "      <td>2020-03-02 00:00:00</td>\n",
              "      <td>2</td>\n",
              "      <td>2.0</td>\n",
              "      <td>NaN</td>\n",
              "      <td>NaN</td>\n",
              "    </tr>\n",
              "    <tr>\n",
              "      <th>1</th>\n",
              "      <td>2020-03-03 00:00:00</td>\n",
              "      <td>2</td>\n",
              "      <td>NaN</td>\n",
              "      <td>NaN</td>\n",
              "      <td>NaN</td>\n",
              "    </tr>\n",
              "    <tr>\n",
              "      <th>2</th>\n",
              "      <td>2020-03-04 00:00:00</td>\n",
              "      <td>2</td>\n",
              "      <td>NaN</td>\n",
              "      <td>NaN</td>\n",
              "      <td>NaN</td>\n",
              "    </tr>\n",
              "    <tr>\n",
              "      <th>3</th>\n",
              "      <td>2020-03-05 00:00:00</td>\n",
              "      <td>2</td>\n",
              "      <td>NaN</td>\n",
              "      <td>NaN</td>\n",
              "      <td>NaN</td>\n",
              "    </tr>\n",
              "    <tr>\n",
              "      <th>4</th>\n",
              "      <td>2020-03-06 00:00:00</td>\n",
              "      <td>4</td>\n",
              "      <td>2.0</td>\n",
              "      <td>NaN</td>\n",
              "      <td>NaN</td>\n",
              "    </tr>\n",
              "  </tbody>\n",
              "</table>\n",
              "</div>"
            ],
            "text/plain": [
              "                    DT  Kasus (Kumulatif)  ...  Sembuh (baru)  Meninggal (baru)\n",
              "0  2020-03-02 00:00:00                  2  ...            NaN               NaN\n",
              "1  2020-03-03 00:00:00                  2  ...            NaN               NaN\n",
              "2  2020-03-04 00:00:00                  2  ...            NaN               NaN\n",
              "3  2020-03-05 00:00:00                  2  ...            NaN               NaN\n",
              "4  2020-03-06 00:00:00                  4  ...            NaN               NaN\n",
              "\n",
              "[5 rows x 5 columns]"
            ]
          },
          "metadata": {
            "tags": []
          },
          "execution_count": 9
        }
      ]
    },
    {
      "cell_type": "code",
      "metadata": {
        "colab_type": "code",
        "outputId": "8ef48ec3-6d24-4a2c-8744-1bac5654c8f9",
        "id": "dKTY1Q1drEM1",
        "colab": {
          "base_uri": "https://localhost:8080/",
          "height": 206
        }
      },
      "source": [
        "df = df.fillna(0)\n",
        "df.head()"
      ],
      "execution_count": 10,
      "outputs": [
        {
          "output_type": "execute_result",
          "data": {
            "text/html": [
              "<div>\n",
              "<style scoped>\n",
              "    .dataframe tbody tr th:only-of-type {\n",
              "        vertical-align: middle;\n",
              "    }\n",
              "\n",
              "    .dataframe tbody tr th {\n",
              "        vertical-align: top;\n",
              "    }\n",
              "\n",
              "    .dataframe thead th {\n",
              "        text-align: right;\n",
              "    }\n",
              "</style>\n",
              "<table border=\"1\" class=\"dataframe\">\n",
              "  <thead>\n",
              "    <tr style=\"text-align: right;\">\n",
              "      <th></th>\n",
              "      <th>DT</th>\n",
              "      <th>Kasus (Kumulatif)</th>\n",
              "      <th>Kasus Baru</th>\n",
              "      <th>Sembuh (baru)</th>\n",
              "      <th>Meninggal (baru)</th>\n",
              "    </tr>\n",
              "  </thead>\n",
              "  <tbody>\n",
              "    <tr>\n",
              "      <th>0</th>\n",
              "      <td>2020-03-02 00:00:00</td>\n",
              "      <td>2</td>\n",
              "      <td>2.0</td>\n",
              "      <td>0.0</td>\n",
              "      <td>0.0</td>\n",
              "    </tr>\n",
              "    <tr>\n",
              "      <th>1</th>\n",
              "      <td>2020-03-03 00:00:00</td>\n",
              "      <td>2</td>\n",
              "      <td>0.0</td>\n",
              "      <td>0.0</td>\n",
              "      <td>0.0</td>\n",
              "    </tr>\n",
              "    <tr>\n",
              "      <th>2</th>\n",
              "      <td>2020-03-04 00:00:00</td>\n",
              "      <td>2</td>\n",
              "      <td>0.0</td>\n",
              "      <td>0.0</td>\n",
              "      <td>0.0</td>\n",
              "    </tr>\n",
              "    <tr>\n",
              "      <th>3</th>\n",
              "      <td>2020-03-05 00:00:00</td>\n",
              "      <td>2</td>\n",
              "      <td>0.0</td>\n",
              "      <td>0.0</td>\n",
              "      <td>0.0</td>\n",
              "    </tr>\n",
              "    <tr>\n",
              "      <th>4</th>\n",
              "      <td>2020-03-06 00:00:00</td>\n",
              "      <td>4</td>\n",
              "      <td>2.0</td>\n",
              "      <td>0.0</td>\n",
              "      <td>0.0</td>\n",
              "    </tr>\n",
              "  </tbody>\n",
              "</table>\n",
              "</div>"
            ],
            "text/plain": [
              "                    DT  Kasus (Kumulatif)  ...  Sembuh (baru)  Meninggal (baru)\n",
              "0  2020-03-02 00:00:00                  2  ...            0.0               0.0\n",
              "1  2020-03-03 00:00:00                  2  ...            0.0               0.0\n",
              "2  2020-03-04 00:00:00                  2  ...            0.0               0.0\n",
              "3  2020-03-05 00:00:00                  2  ...            0.0               0.0\n",
              "4  2020-03-06 00:00:00                  4  ...            0.0               0.0\n",
              "\n",
              "[5 rows x 5 columns]"
            ]
          },
          "metadata": {
            "tags": []
          },
          "execution_count": 10
        }
      ]
    },
    {
      "cell_type": "code",
      "metadata": {
        "id": "CE2zlJopMWDc",
        "colab_type": "code",
        "outputId": "5567b935-0bc1-49e0-9419-1859379edc30",
        "colab": {
          "base_uri": "https://localhost:8080/",
          "height": 235
        }
      },
      "source": [
        "df.info()"
      ],
      "execution_count": 11,
      "outputs": [
        {
          "output_type": "stream",
          "text": [
            "<class 'pandas.core.frame.DataFrame'>\n",
            "RangeIndex: 51 entries, 0 to 50\n",
            "Data columns (total 5 columns):\n",
            " #   Column             Non-Null Count  Dtype  \n",
            "---  ------             --------------  -----  \n",
            " 0   DT                 51 non-null     object \n",
            " 1   Kasus (Kumulatif)  51 non-null     int64  \n",
            " 2   Kasus Baru         51 non-null     float64\n",
            " 3   Sembuh (baru)      51 non-null     float64\n",
            " 4   Meninggal (baru)   51 non-null     float64\n",
            "dtypes: float64(3), int64(1), object(1)\n",
            "memory usage: 2.1+ KB\n"
          ],
          "name": "stdout"
        }
      ]
    },
    {
      "cell_type": "code",
      "metadata": {
        "id": "A1xK_r13MBWm",
        "colab_type": "code",
        "outputId": "2faa76fd-ebaf-4580-a322-403d64e4fa4c",
        "colab": {
          "base_uri": "https://localhost:8080/",
          "height": 206
        }
      },
      "source": [
        "df.DT = df.DT.str[:10]    # select only year-month-date in datetime column\n",
        "df.head()"
      ],
      "execution_count": 12,
      "outputs": [
        {
          "output_type": "execute_result",
          "data": {
            "text/html": [
              "<div>\n",
              "<style scoped>\n",
              "    .dataframe tbody tr th:only-of-type {\n",
              "        vertical-align: middle;\n",
              "    }\n",
              "\n",
              "    .dataframe tbody tr th {\n",
              "        vertical-align: top;\n",
              "    }\n",
              "\n",
              "    .dataframe thead th {\n",
              "        text-align: right;\n",
              "    }\n",
              "</style>\n",
              "<table border=\"1\" class=\"dataframe\">\n",
              "  <thead>\n",
              "    <tr style=\"text-align: right;\">\n",
              "      <th></th>\n",
              "      <th>DT</th>\n",
              "      <th>Kasus (Kumulatif)</th>\n",
              "      <th>Kasus Baru</th>\n",
              "      <th>Sembuh (baru)</th>\n",
              "      <th>Meninggal (baru)</th>\n",
              "    </tr>\n",
              "  </thead>\n",
              "  <tbody>\n",
              "    <tr>\n",
              "      <th>0</th>\n",
              "      <td>2020-03-02</td>\n",
              "      <td>2</td>\n",
              "      <td>2.0</td>\n",
              "      <td>0.0</td>\n",
              "      <td>0.0</td>\n",
              "    </tr>\n",
              "    <tr>\n",
              "      <th>1</th>\n",
              "      <td>2020-03-03</td>\n",
              "      <td>2</td>\n",
              "      <td>0.0</td>\n",
              "      <td>0.0</td>\n",
              "      <td>0.0</td>\n",
              "    </tr>\n",
              "    <tr>\n",
              "      <th>2</th>\n",
              "      <td>2020-03-04</td>\n",
              "      <td>2</td>\n",
              "      <td>0.0</td>\n",
              "      <td>0.0</td>\n",
              "      <td>0.0</td>\n",
              "    </tr>\n",
              "    <tr>\n",
              "      <th>3</th>\n",
              "      <td>2020-03-05</td>\n",
              "      <td>2</td>\n",
              "      <td>0.0</td>\n",
              "      <td>0.0</td>\n",
              "      <td>0.0</td>\n",
              "    </tr>\n",
              "    <tr>\n",
              "      <th>4</th>\n",
              "      <td>2020-03-06</td>\n",
              "      <td>4</td>\n",
              "      <td>2.0</td>\n",
              "      <td>0.0</td>\n",
              "      <td>0.0</td>\n",
              "    </tr>\n",
              "  </tbody>\n",
              "</table>\n",
              "</div>"
            ],
            "text/plain": [
              "           DT  Kasus (Kumulatif)  Kasus Baru  Sembuh (baru)  Meninggal (baru)\n",
              "0  2020-03-02                  2         2.0            0.0               0.0\n",
              "1  2020-03-03                  2         0.0            0.0               0.0\n",
              "2  2020-03-04                  2         0.0            0.0               0.0\n",
              "3  2020-03-05                  2         0.0            0.0               0.0\n",
              "4  2020-03-06                  4         2.0            0.0               0.0"
            ]
          },
          "metadata": {
            "tags": []
          },
          "execution_count": 12
        }
      ]
    },
    {
      "cell_type": "code",
      "metadata": {
        "id": "NykKc_43MJz1",
        "colab_type": "code",
        "outputId": "88a0fb5c-d8fc-4ddc-8ee8-81be9f526f86",
        "colab": {
          "base_uri": "https://localhost:8080/",
          "height": 126
        }
      },
      "source": [
        "df.DT = pd.to_datetime(df.DT, format=\"%Y-%m-%d\")\n",
        "df.DT.head()"
      ],
      "execution_count": 13,
      "outputs": [
        {
          "output_type": "execute_result",
          "data": {
            "text/plain": [
              "0   2020-03-02\n",
              "1   2020-03-03\n",
              "2   2020-03-04\n",
              "3   2020-03-05\n",
              "4   2020-03-06\n",
              "Name: DT, dtype: datetime64[ns]"
            ]
          },
          "metadata": {
            "tags": []
          },
          "execution_count": 13
        }
      ]
    },
    {
      "cell_type": "code",
      "metadata": {
        "id": "IKDZyoflMRRB",
        "colab_type": "code",
        "outputId": "e6de5072-6f70-45a4-9253-49b93aedc4ef",
        "colab": {
          "base_uri": "https://localhost:8080/",
          "height": 235
        }
      },
      "source": [
        "df.info()    # check that datetime column is still in datetime format"
      ],
      "execution_count": 14,
      "outputs": [
        {
          "output_type": "stream",
          "text": [
            "<class 'pandas.core.frame.DataFrame'>\n",
            "RangeIndex: 51 entries, 0 to 50\n",
            "Data columns (total 5 columns):\n",
            " #   Column             Non-Null Count  Dtype         \n",
            "---  ------             --------------  -----         \n",
            " 0   DT                 51 non-null     datetime64[ns]\n",
            " 1   Kasus (Kumulatif)  51 non-null     int64         \n",
            " 2   Kasus Baru         51 non-null     float64       \n",
            " 3   Sembuh (baru)      51 non-null     float64       \n",
            " 4   Meninggal (baru)   51 non-null     float64       \n",
            "dtypes: datetime64[ns](1), float64(3), int64(1)\n",
            "memory usage: 2.1 KB\n"
          ],
          "name": "stdout"
        }
      ]
    },
    {
      "cell_type": "markdown",
      "metadata": {
        "id": "urdz8nZEO0lj",
        "colab_type": "text"
      },
      "source": [
        "# Visualizing the Dataset"
      ]
    },
    {
      "cell_type": "code",
      "metadata": {
        "colab_type": "code",
        "id": "sXcnV9fGYgrA",
        "colab": {}
      },
      "source": [
        "x = np.array(range(len(df.DT)))\n",
        "y = df['Kasus Baru'].values\n",
        "\n",
        "x = x.reshape(-1, 1)"
      ],
      "execution_count": 0,
      "outputs": []
    },
    {
      "cell_type": "code",
      "metadata": {
        "colab_type": "code",
        "outputId": "802e8dde-c3c2-4728-c43f-25266044101e",
        "id": "AdWJk1YVYfQZ",
        "colab": {
          "base_uri": "https://localhost:8080/",
          "height": 53
        }
      },
      "source": [
        "model = SVR(kernel='poly')\n",
        "model.fit(x, y)"
      ],
      "execution_count": 16,
      "outputs": [
        {
          "output_type": "execute_result",
          "data": {
            "text/plain": [
              "SVR(C=1.0, cache_size=200, coef0=0.0, degree=3, epsilon=0.1, gamma='scale',\n",
              "    kernel='poly', max_iter=-1, shrinking=True, tol=0.001, verbose=False)"
            ]
          },
          "metadata": {
            "tags": []
          },
          "execution_count": 16
        }
      ]
    },
    {
      "cell_type": "code",
      "metadata": {
        "colab_type": "code",
        "id": "ql1_8NRBYeZK",
        "colab": {}
      },
      "source": [
        "line = model.predict(x)"
      ],
      "execution_count": 0,
      "outputs": []
    },
    {
      "cell_type": "code",
      "metadata": {
        "id": "zkj8TDx-M9v7",
        "colab_type": "code",
        "outputId": "6eaec7d7-7e1c-4434-e3c9-e0ab22c6dca5",
        "colab": {
          "base_uri": "https://localhost:8080/",
          "height": 542
        }
      },
      "source": [
        "name = ['New Cases', 'Died', 'Recovered']\n",
        "bar = [go.Bar(\n",
        "        x=df.DT,\n",
        "        y=df[column],\n",
        "        name=name[i],\n",
        "    ) for i, column in enumerate(['Kasus Baru', 'Meninggal (baru)', \n",
        "                                  'Sembuh (baru)'])]\n",
        "\n",
        "reg = go.Scatter(\n",
        "    x=df.DT,\n",
        "    y=line,\n",
        "    line={\n",
        "        'color':'green',\n",
        "        'dash': 'dash',\n",
        "        'width': 3\n",
        "    },\n",
        "    name='Trendline'\n",
        ")\n",
        "\n",
        "bar.append(reg)\n",
        "\n",
        "layout = {\n",
        "    'title':{\n",
        "        'text': 'Coronavirus in Indonesia',\n",
        "        'x':0.5, #range x axis 0 - 1\n",
        "    },\n",
        "    'xaxis':{\n",
        "        'title': 'Date',\n",
        "    },\n",
        "    'yaxis':{\n",
        "        'title': 'Num of Cases',\n",
        "    },\n",
        "    'legend':{\n",
        "        'orientation': 'h',\n",
        "        'x': 0.5,\n",
        "        'y': 1, #y itu 1 diatas, 0 dibawah\n",
        "        'xanchor': 'center',\n",
        "    }\n",
        "}\n",
        "\n",
        "fig = go.Figure(data=bar, layout=layout)\n",
        "fig.show()"
      ],
      "execution_count": 18,
      "outputs": [
        {
          "output_type": "display_data",
          "data": {
            "text/html": [
              "<html>\n",
              "<head><meta charset=\"utf-8\" /></head>\n",
              "<body>\n",
              "    <div>\n",
              "            <script src=\"https://cdnjs.cloudflare.com/ajax/libs/mathjax/2.7.5/MathJax.js?config=TeX-AMS-MML_SVG\"></script><script type=\"text/javascript\">if (window.MathJax) {MathJax.Hub.Config({SVG: {font: \"STIX-Web\"}});}</script>\n",
              "                <script type=\"text/javascript\">window.PlotlyConfig = {MathJaxConfig: 'local'};</script>\n",
              "        <script src=\"https://cdn.plot.ly/plotly-latest.min.js\"></script>    \n",
              "            <div id=\"1c90f6b5-4106-42c3-85da-098a5f1fa3f5\" class=\"plotly-graph-div\" style=\"height:525px; width:100%;\"></div>\n",
              "            <script type=\"text/javascript\">\n",
              "                \n",
              "                    window.PLOTLYENV=window.PLOTLYENV || {};\n",
              "                    \n",
              "                if (document.getElementById(\"1c90f6b5-4106-42c3-85da-098a5f1fa3f5\")) {\n",
              "                    Plotly.newPlot(\n",
              "                        '1c90f6b5-4106-42c3-85da-098a5f1fa3f5',\n",
              "                        [{\"name\": \"New Cases\", \"type\": \"bar\", \"x\": [\"2020-03-02T00:00:00\", \"2020-03-03T00:00:00\", \"2020-03-04T00:00:00\", \"2020-03-05T00:00:00\", \"2020-03-06T00:00:00\", \"2020-03-07T00:00:00\", \"2020-03-08T00:00:00\", \"2020-03-09T00:00:00\", \"2020-03-10T00:00:00\", \"2020-03-11T00:00:00\", \"2020-03-12T00:00:00\", \"2020-03-13T00:00:00\", \"2020-03-14T00:00:00\", \"2020-03-15T00:00:00\", \"2020-03-16T00:00:00\", \"2020-03-17T00:00:00\", \"2020-03-18T00:00:00\", \"2020-03-19T00:00:00\", \"2020-03-20T00:00:00\", \"2020-03-21T00:00:00\", \"2020-03-22T00:00:00\", \"2020-03-23T00:00:00\", \"2020-03-24T00:00:00\", \"2020-03-25T00:00:00\", \"2020-03-26T00:00:00\", \"2020-03-27T00:00:00\", \"2020-03-28T00:00:00\", \"2020-03-29T00:00:00\", \"2020-03-30T00:00:00\", \"2020-03-31T00:00:00\", \"2020-04-01T00:00:00\", \"2020-04-02T00:00:00\", \"2020-04-03T00:00:00\", \"2020-04-04T00:00:00\", \"2020-04-05T00:00:00\", \"2020-04-06T00:00:00\", \"2020-04-07T00:00:00\", \"2020-04-08T00:00:00\", \"2020-04-09T00:00:00\", \"2020-04-10T00:00:00\", \"2020-04-11T00:00:00\", \"2020-04-12T00:00:00\", \"2020-04-13T00:00:00\", \"2020-04-14T00:00:00\", \"2020-04-15T00:00:00\", \"2020-04-16T00:00:00\", \"2020-04-17T00:00:00\", \"2020-04-18T00:00:00\", \"2020-04-19T00:00:00\", \"2020-04-20T00:00:00\", \"2020-04-21T00:00:00\"], \"y\": [2.0, 0.0, 0.0, 0.0, 2.0, 0.0, 2.0, 13.0, 8.0, 7.0, 0.0, 35.0, 27.0, 21.0, 17.0, 38.0, 55.0, 82.0, 60.0, 81.0, 64.0, 65.0, 106.0, 105.0, 103.0, 153.0, 109.0, 130.0, 129.0, 114.0, 149.0, 113.0, 196.0, 106.0, 181.0, 218.0, 247.0, 218.0, 337.0, 219.0, 330.0, 399.0, 316.0, 282.0, 297.0, 380.0, 407.0, 325.0, 327.0, 185.0, 375.0]}, {\"name\": \"Died\", \"type\": \"bar\", \"x\": [\"2020-03-02T00:00:00\", \"2020-03-03T00:00:00\", \"2020-03-04T00:00:00\", \"2020-03-05T00:00:00\", \"2020-03-06T00:00:00\", \"2020-03-07T00:00:00\", \"2020-03-08T00:00:00\", \"2020-03-09T00:00:00\", \"2020-03-10T00:00:00\", \"2020-03-11T00:00:00\", \"2020-03-12T00:00:00\", \"2020-03-13T00:00:00\", \"2020-03-14T00:00:00\", \"2020-03-15T00:00:00\", \"2020-03-16T00:00:00\", \"2020-03-17T00:00:00\", \"2020-03-18T00:00:00\", \"2020-03-19T00:00:00\", \"2020-03-20T00:00:00\", \"2020-03-21T00:00:00\", \"2020-03-22T00:00:00\", \"2020-03-23T00:00:00\", \"2020-03-24T00:00:00\", \"2020-03-25T00:00:00\", \"2020-03-26T00:00:00\", \"2020-03-27T00:00:00\", \"2020-03-28T00:00:00\", \"2020-03-29T00:00:00\", \"2020-03-30T00:00:00\", \"2020-03-31T00:00:00\", \"2020-04-01T00:00:00\", \"2020-04-02T00:00:00\", \"2020-04-03T00:00:00\", \"2020-04-04T00:00:00\", \"2020-04-05T00:00:00\", \"2020-04-06T00:00:00\", \"2020-04-07T00:00:00\", \"2020-04-08T00:00:00\", \"2020-04-09T00:00:00\", \"2020-04-10T00:00:00\", \"2020-04-11T00:00:00\", \"2020-04-12T00:00:00\", \"2020-04-13T00:00:00\", \"2020-04-14T00:00:00\", \"2020-04-15T00:00:00\", \"2020-04-16T00:00:00\", \"2020-04-17T00:00:00\", \"2020-04-18T00:00:00\", \"2020-04-19T00:00:00\", \"2020-04-20T00:00:00\", \"2020-04-21T00:00:00\"], \"y\": [0.0, 0.0, 0.0, 0.0, 0.0, 0.0, 0.0, 0.0, 0.0, 2.0, 2.0, 0.0, 1.0, 0.0, 0.0, 2.0, 12.0, 6.0, 7.0, 6.0, 10.0, 1.0, 6.0, 3.0, 20.0, 9.0, 15.0, 12.0, 8.0, 14.0, 21.0, 13.0, 11.0, 10.0, 7.0, 11.0, 12.0, 19.0, 40.0, 26.0, 21.0, 46.0, 26.0, 60.0, 10.0, 27.0, 24.0, 15.0, 47.0, 8.0, 26.0]}, {\"name\": \"Recovered\", \"type\": \"bar\", \"x\": [\"2020-03-02T00:00:00\", \"2020-03-03T00:00:00\", \"2020-03-04T00:00:00\", \"2020-03-05T00:00:00\", \"2020-03-06T00:00:00\", \"2020-03-07T00:00:00\", \"2020-03-08T00:00:00\", \"2020-03-09T00:00:00\", \"2020-03-10T00:00:00\", \"2020-03-11T00:00:00\", \"2020-03-12T00:00:00\", \"2020-03-13T00:00:00\", \"2020-03-14T00:00:00\", \"2020-03-15T00:00:00\", \"2020-03-16T00:00:00\", \"2020-03-17T00:00:00\", \"2020-03-18T00:00:00\", \"2020-03-19T00:00:00\", \"2020-03-20T00:00:00\", \"2020-03-21T00:00:00\", \"2020-03-22T00:00:00\", \"2020-03-23T00:00:00\", \"2020-03-24T00:00:00\", \"2020-03-25T00:00:00\", \"2020-03-26T00:00:00\", \"2020-03-27T00:00:00\", \"2020-03-28T00:00:00\", \"2020-03-29T00:00:00\", \"2020-03-30T00:00:00\", \"2020-03-31T00:00:00\", \"2020-04-01T00:00:00\", \"2020-04-02T00:00:00\", \"2020-04-03T00:00:00\", \"2020-04-04T00:00:00\", \"2020-04-05T00:00:00\", \"2020-04-06T00:00:00\", \"2020-04-07T00:00:00\", \"2020-04-08T00:00:00\", \"2020-04-09T00:00:00\", \"2020-04-10T00:00:00\", \"2020-04-11T00:00:00\", \"2020-04-12T00:00:00\", \"2020-04-13T00:00:00\", \"2020-04-14T00:00:00\", \"2020-04-15T00:00:00\", \"2020-04-16T00:00:00\", \"2020-04-17T00:00:00\", \"2020-04-18T00:00:00\", \"2020-04-19T00:00:00\", \"2020-04-20T00:00:00\", \"2020-04-21T00:00:00\"], \"y\": [0.0, 0.0, 0.0, 0.0, 0.0, 0.0, 0.0, 0.0, 0.0, 2.0, 1.0, 2.0, 3.0, 0.0, 0.0, 1.0, 2.0, 4.0, 1.0, 4.0, 9.0, 1.0, 0.0, 1.0, 4.0, 11.0, 13.0, 5.0, 11.0, 6.0, 22.0, 9.0, 22.0, 16.0, 14.0, 28.0, 12.0, 18.0, 30.0, 30.0, 4.0, 73.0, 21.0, 46.0, 20.0, 102.0, 59.0, 24.0, 55.0, 61.0, 95.0]}, {\"line\": {\"color\": \"green\", \"dash\": \"dash\", \"width\": 3}, \"name\": \"Trendline\", \"type\": \"scatter\", \"x\": [\"2020-03-02T00:00:00\", \"2020-03-03T00:00:00\", \"2020-03-04T00:00:00\", \"2020-03-05T00:00:00\", \"2020-03-06T00:00:00\", \"2020-03-07T00:00:00\", \"2020-03-08T00:00:00\", \"2020-03-09T00:00:00\", \"2020-03-10T00:00:00\", \"2020-03-11T00:00:00\", \"2020-03-12T00:00:00\", \"2020-03-13T00:00:00\", \"2020-03-14T00:00:00\", \"2020-03-15T00:00:00\", \"2020-03-16T00:00:00\", \"2020-03-17T00:00:00\", \"2020-03-18T00:00:00\", \"2020-03-19T00:00:00\", \"2020-03-20T00:00:00\", \"2020-03-21T00:00:00\", \"2020-03-22T00:00:00\", \"2020-03-23T00:00:00\", \"2020-03-24T00:00:00\", \"2020-03-25T00:00:00\", \"2020-03-26T00:00:00\", \"2020-03-27T00:00:00\", \"2020-03-28T00:00:00\", \"2020-03-29T00:00:00\", \"2020-03-30T00:00:00\", \"2020-03-31T00:00:00\", \"2020-04-01T00:00:00\", \"2020-04-02T00:00:00\", \"2020-04-03T00:00:00\", \"2020-04-04T00:00:00\", \"2020-04-05T00:00:00\", \"2020-04-06T00:00:00\", \"2020-04-07T00:00:00\", \"2020-04-08T00:00:00\", \"2020-04-09T00:00:00\", \"2020-04-10T00:00:00\", \"2020-04-11T00:00:00\", \"2020-04-12T00:00:00\", \"2020-04-13T00:00:00\", \"2020-04-14T00:00:00\", \"2020-04-15T00:00:00\", \"2020-04-16T00:00:00\", \"2020-04-17T00:00:00\", \"2020-04-18T00:00:00\", \"2020-04-19T00:00:00\", \"2020-04-20T00:00:00\", \"2020-04-21T00:00:00\"], \"y\": [29.961576775084325, 29.965287086295714, 29.99125926477545, 30.061755177791873, 30.199036692613326, 30.425365676508154, 30.763003996744704, 31.23421352059132, 31.861256115316344, 32.6663936481881, 33.67188798647497, 34.900000997445304, 36.37299454836737, 38.113130506509606, 40.14267073914029, 42.48387711352778, 45.15901149694048, 48.19033575664661, 51.6001117599145, 55.41060137401284, 59.644066466209466, 64.32276890377325, 69.46897055397216, 75.10493328407438, 81.25291896134868, 87.93518945306343, 95.17400662648657, 102.99163234888664, 111.41032848753207, 120.45235690969082, 130.139979482632, 140.49545807362364, 151.54105454993356, 163.29903077883046, 175.79164862758262, 189.0411699634588, 203.0698566537257, 217.899970565655, 233.55377356651246, 250.05352752356708, 267.42149430408546, 285.67993577533895, 304.85111380459574, 324.957290259122, 346.020727006187, 368.06368591305755, 391.10842884700475, 415.1772176752966, 440.2923142651992, 466.47598048398555, 493.75047819891716]}],\n",
              "                        {\"legend\": {\"orientation\": \"h\", \"x\": 0.5, \"xanchor\": \"center\", \"y\": 1}, \"template\": {\"data\": {\"bar\": [{\"error_x\": {\"color\": \"#2a3f5f\"}, \"error_y\": {\"color\": \"#2a3f5f\"}, \"marker\": {\"line\": {\"color\": \"#E5ECF6\", \"width\": 0.5}}, \"type\": \"bar\"}], \"barpolar\": [{\"marker\": {\"line\": {\"color\": \"#E5ECF6\", \"width\": 0.5}}, \"type\": \"barpolar\"}], \"carpet\": [{\"aaxis\": {\"endlinecolor\": \"#2a3f5f\", \"gridcolor\": \"white\", \"linecolor\": \"white\", \"minorgridcolor\": \"white\", \"startlinecolor\": \"#2a3f5f\"}, \"baxis\": {\"endlinecolor\": \"#2a3f5f\", \"gridcolor\": \"white\", \"linecolor\": \"white\", \"minorgridcolor\": \"white\", \"startlinecolor\": \"#2a3f5f\"}, \"type\": \"carpet\"}], \"choropleth\": [{\"colorbar\": {\"outlinewidth\": 0, \"ticks\": \"\"}, \"type\": \"choropleth\"}], \"contour\": [{\"colorbar\": {\"outlinewidth\": 0, \"ticks\": \"\"}, \"colorscale\": [[0.0, \"#0d0887\"], [0.1111111111111111, \"#46039f\"], [0.2222222222222222, \"#7201a8\"], [0.3333333333333333, \"#9c179e\"], [0.4444444444444444, \"#bd3786\"], [0.5555555555555556, \"#d8576b\"], [0.6666666666666666, \"#ed7953\"], [0.7777777777777778, \"#fb9f3a\"], [0.8888888888888888, \"#fdca26\"], [1.0, \"#f0f921\"]], \"type\": \"contour\"}], \"contourcarpet\": [{\"colorbar\": {\"outlinewidth\": 0, \"ticks\": \"\"}, \"type\": \"contourcarpet\"}], \"heatmap\": [{\"colorbar\": {\"outlinewidth\": 0, \"ticks\": \"\"}, \"colorscale\": [[0.0, \"#0d0887\"], [0.1111111111111111, \"#46039f\"], [0.2222222222222222, \"#7201a8\"], [0.3333333333333333, \"#9c179e\"], [0.4444444444444444, \"#bd3786\"], [0.5555555555555556, \"#d8576b\"], [0.6666666666666666, \"#ed7953\"], [0.7777777777777778, \"#fb9f3a\"], [0.8888888888888888, \"#fdca26\"], [1.0, \"#f0f921\"]], \"type\": \"heatmap\"}], \"heatmapgl\": [{\"colorbar\": {\"outlinewidth\": 0, \"ticks\": \"\"}, \"colorscale\": [[0.0, \"#0d0887\"], [0.1111111111111111, \"#46039f\"], [0.2222222222222222, \"#7201a8\"], [0.3333333333333333, \"#9c179e\"], [0.4444444444444444, \"#bd3786\"], [0.5555555555555556, \"#d8576b\"], [0.6666666666666666, \"#ed7953\"], [0.7777777777777778, \"#fb9f3a\"], [0.8888888888888888, \"#fdca26\"], [1.0, \"#f0f921\"]], \"type\": \"heatmapgl\"}], \"histogram\": [{\"marker\": {\"colorbar\": {\"outlinewidth\": 0, \"ticks\": \"\"}}, \"type\": \"histogram\"}], \"histogram2d\": [{\"colorbar\": {\"outlinewidth\": 0, \"ticks\": \"\"}, \"colorscale\": [[0.0, \"#0d0887\"], [0.1111111111111111, \"#46039f\"], [0.2222222222222222, \"#7201a8\"], [0.3333333333333333, \"#9c179e\"], [0.4444444444444444, \"#bd3786\"], [0.5555555555555556, \"#d8576b\"], [0.6666666666666666, \"#ed7953\"], [0.7777777777777778, \"#fb9f3a\"], [0.8888888888888888, \"#fdca26\"], [1.0, \"#f0f921\"]], \"type\": \"histogram2d\"}], \"histogram2dcontour\": [{\"colorbar\": {\"outlinewidth\": 0, \"ticks\": \"\"}, \"colorscale\": [[0.0, \"#0d0887\"], [0.1111111111111111, \"#46039f\"], [0.2222222222222222, \"#7201a8\"], [0.3333333333333333, \"#9c179e\"], [0.4444444444444444, \"#bd3786\"], [0.5555555555555556, \"#d8576b\"], [0.6666666666666666, \"#ed7953\"], [0.7777777777777778, \"#fb9f3a\"], [0.8888888888888888, \"#fdca26\"], [1.0, \"#f0f921\"]], \"type\": \"histogram2dcontour\"}], \"mesh3d\": [{\"colorbar\": {\"outlinewidth\": 0, \"ticks\": \"\"}, \"type\": \"mesh3d\"}], \"parcoords\": [{\"line\": {\"colorbar\": {\"outlinewidth\": 0, \"ticks\": \"\"}}, \"type\": \"parcoords\"}], \"pie\": [{\"automargin\": true, \"type\": \"pie\"}], \"scatter\": [{\"marker\": {\"colorbar\": {\"outlinewidth\": 0, \"ticks\": \"\"}}, \"type\": \"scatter\"}], \"scatter3d\": [{\"line\": {\"colorbar\": {\"outlinewidth\": 0, \"ticks\": \"\"}}, \"marker\": {\"colorbar\": {\"outlinewidth\": 0, \"ticks\": \"\"}}, \"type\": \"scatter3d\"}], \"scattercarpet\": [{\"marker\": {\"colorbar\": {\"outlinewidth\": 0, \"ticks\": \"\"}}, \"type\": \"scattercarpet\"}], \"scattergeo\": [{\"marker\": {\"colorbar\": {\"outlinewidth\": 0, \"ticks\": \"\"}}, \"type\": \"scattergeo\"}], \"scattergl\": [{\"marker\": {\"colorbar\": {\"outlinewidth\": 0, \"ticks\": \"\"}}, \"type\": \"scattergl\"}], \"scattermapbox\": [{\"marker\": {\"colorbar\": {\"outlinewidth\": 0, \"ticks\": \"\"}}, \"type\": \"scattermapbox\"}], \"scatterpolar\": [{\"marker\": {\"colorbar\": {\"outlinewidth\": 0, \"ticks\": \"\"}}, \"type\": \"scatterpolar\"}], \"scatterpolargl\": [{\"marker\": {\"colorbar\": {\"outlinewidth\": 0, \"ticks\": \"\"}}, \"type\": \"scatterpolargl\"}], \"scatterternary\": [{\"marker\": {\"colorbar\": {\"outlinewidth\": 0, \"ticks\": \"\"}}, \"type\": \"scatterternary\"}], \"surface\": [{\"colorbar\": {\"outlinewidth\": 0, \"ticks\": \"\"}, \"colorscale\": [[0.0, \"#0d0887\"], [0.1111111111111111, \"#46039f\"], [0.2222222222222222, \"#7201a8\"], [0.3333333333333333, \"#9c179e\"], [0.4444444444444444, \"#bd3786\"], [0.5555555555555556, \"#d8576b\"], [0.6666666666666666, \"#ed7953\"], [0.7777777777777778, \"#fb9f3a\"], [0.8888888888888888, \"#fdca26\"], [1.0, \"#f0f921\"]], \"type\": \"surface\"}], \"table\": [{\"cells\": {\"fill\": {\"color\": \"#EBF0F8\"}, \"line\": {\"color\": \"white\"}}, \"header\": {\"fill\": {\"color\": \"#C8D4E3\"}, \"line\": {\"color\": \"white\"}}, \"type\": \"table\"}]}, \"layout\": {\"annotationdefaults\": {\"arrowcolor\": \"#2a3f5f\", \"arrowhead\": 0, \"arrowwidth\": 1}, \"coloraxis\": {\"colorbar\": {\"outlinewidth\": 0, \"ticks\": \"\"}}, \"colorscale\": {\"diverging\": [[0, \"#8e0152\"], [0.1, \"#c51b7d\"], [0.2, \"#de77ae\"], [0.3, \"#f1b6da\"], [0.4, \"#fde0ef\"], [0.5, \"#f7f7f7\"], [0.6, \"#e6f5d0\"], [0.7, \"#b8e186\"], [0.8, \"#7fbc41\"], [0.9, \"#4d9221\"], [1, \"#276419\"]], \"sequential\": [[0.0, \"#0d0887\"], [0.1111111111111111, \"#46039f\"], [0.2222222222222222, \"#7201a8\"], [0.3333333333333333, \"#9c179e\"], [0.4444444444444444, \"#bd3786\"], [0.5555555555555556, \"#d8576b\"], [0.6666666666666666, \"#ed7953\"], [0.7777777777777778, \"#fb9f3a\"], [0.8888888888888888, \"#fdca26\"], [1.0, \"#f0f921\"]], \"sequentialminus\": [[0.0, \"#0d0887\"], [0.1111111111111111, \"#46039f\"], [0.2222222222222222, \"#7201a8\"], [0.3333333333333333, \"#9c179e\"], [0.4444444444444444, \"#bd3786\"], [0.5555555555555556, \"#d8576b\"], [0.6666666666666666, \"#ed7953\"], [0.7777777777777778, \"#fb9f3a\"], [0.8888888888888888, \"#fdca26\"], [1.0, \"#f0f921\"]]}, \"colorway\": [\"#636efa\", \"#EF553B\", \"#00cc96\", \"#ab63fa\", \"#FFA15A\", \"#19d3f3\", \"#FF6692\", \"#B6E880\", \"#FF97FF\", \"#FECB52\"], \"font\": {\"color\": \"#2a3f5f\"}, \"geo\": {\"bgcolor\": \"white\", \"lakecolor\": \"white\", \"landcolor\": \"#E5ECF6\", \"showlakes\": true, \"showland\": true, \"subunitcolor\": \"white\"}, \"hoverlabel\": {\"align\": \"left\"}, \"hovermode\": \"closest\", \"mapbox\": {\"style\": \"light\"}, \"paper_bgcolor\": \"white\", \"plot_bgcolor\": \"#E5ECF6\", \"polar\": {\"angularaxis\": {\"gridcolor\": \"white\", \"linecolor\": \"white\", \"ticks\": \"\"}, \"bgcolor\": \"#E5ECF6\", \"radialaxis\": {\"gridcolor\": \"white\", \"linecolor\": \"white\", \"ticks\": \"\"}}, \"scene\": {\"xaxis\": {\"backgroundcolor\": \"#E5ECF6\", \"gridcolor\": \"white\", \"gridwidth\": 2, \"linecolor\": \"white\", \"showbackground\": true, \"ticks\": \"\", \"zerolinecolor\": \"white\"}, \"yaxis\": {\"backgroundcolor\": \"#E5ECF6\", \"gridcolor\": \"white\", \"gridwidth\": 2, \"linecolor\": \"white\", \"showbackground\": true, \"ticks\": \"\", \"zerolinecolor\": \"white\"}, \"zaxis\": {\"backgroundcolor\": \"#E5ECF6\", \"gridcolor\": \"white\", \"gridwidth\": 2, \"linecolor\": \"white\", \"showbackground\": true, \"ticks\": \"\", \"zerolinecolor\": \"white\"}}, \"shapedefaults\": {\"line\": {\"color\": \"#2a3f5f\"}}, \"ternary\": {\"aaxis\": {\"gridcolor\": \"white\", \"linecolor\": \"white\", \"ticks\": \"\"}, \"baxis\": {\"gridcolor\": \"white\", \"linecolor\": \"white\", \"ticks\": \"\"}, \"bgcolor\": \"#E5ECF6\", \"caxis\": {\"gridcolor\": \"white\", \"linecolor\": \"white\", \"ticks\": \"\"}}, \"title\": {\"x\": 0.05}, \"xaxis\": {\"automargin\": true, \"gridcolor\": \"white\", \"linecolor\": \"white\", \"ticks\": \"\", \"title\": {\"standoff\": 15}, \"zerolinecolor\": \"white\", \"zerolinewidth\": 2}, \"yaxis\": {\"automargin\": true, \"gridcolor\": \"white\", \"linecolor\": \"white\", \"ticks\": \"\", \"title\": {\"standoff\": 15}, \"zerolinecolor\": \"white\", \"zerolinewidth\": 2}}}, \"title\": {\"text\": \"Coronavirus in Indonesia\", \"x\": 0.5}, \"xaxis\": {\"title\": {\"text\": \"Date\"}}, \"yaxis\": {\"title\": {\"text\": \"Num of Cases\"}}},\n",
              "                        {\"responsive\": true}\n",
              "                    ).then(function(){\n",
              "                            \n",
              "var gd = document.getElementById('1c90f6b5-4106-42c3-85da-098a5f1fa3f5');\n",
              "var x = new MutationObserver(function (mutations, observer) {{\n",
              "        var display = window.getComputedStyle(gd).display;\n",
              "        if (!display || display === 'none') {{\n",
              "            console.log([gd, 'removed!']);\n",
              "            Plotly.purge(gd);\n",
              "            observer.disconnect();\n",
              "        }}\n",
              "}});\n",
              "\n",
              "// Listen for the removal of the full notebook cells\n",
              "var notebookContainer = gd.closest('#notebook-container');\n",
              "if (notebookContainer) {{\n",
              "    x.observe(notebookContainer, {childList: true});\n",
              "}}\n",
              "\n",
              "// Listen for the clearing of the current output cell\n",
              "var outputEl = gd.closest('.output');\n",
              "if (outputEl) {{\n",
              "    x.observe(outputEl, {childList: true});\n",
              "}}\n",
              "\n",
              "                        })\n",
              "                };\n",
              "                \n",
              "            </script>\n",
              "        </div>\n",
              "</body>\n",
              "</html>"
            ]
          },
          "metadata": {
            "tags": []
          }
        }
      ]
    },
    {
      "cell_type": "code",
      "metadata": {
        "id": "ADHZrzh9u-6Q",
        "colab_type": "code",
        "outputId": "4602ea54-fe96-4f56-867d-08752dd14cb6",
        "colab": {
          "base_uri": "https://localhost:8080/",
          "height": 53
        }
      },
      "source": [
        "y_cum = df['Kasus (Kumulatif)']\n",
        "\n",
        "model_cum = SVR(kernel='poly')\n",
        "model_cum.fit(x, y_cum)"
      ],
      "execution_count": 19,
      "outputs": [
        {
          "output_type": "execute_result",
          "data": {
            "text/plain": [
              "SVR(C=1.0, cache_size=200, coef0=0.0, degree=3, epsilon=0.1, gamma='scale',\n",
              "    kernel='poly', max_iter=-1, shrinking=True, tol=0.001, verbose=False)"
            ]
          },
          "metadata": {
            "tags": []
          },
          "execution_count": 19
        }
      ]
    },
    {
      "cell_type": "code",
      "metadata": {
        "id": "z131UOGEvY7k",
        "colab_type": "code",
        "colab": {}
      },
      "source": [
        "dt = datetime.datetime(2020, 3, 2)\n",
        "end = datetime.datetime(2020, 12, 30)\n",
        "step = datetime.timedelta(days=1)\n",
        "\n",
        "date_series = []\n",
        "\n",
        "while dt < end:\n",
        "    date_series.append(dt.strftime('%Y-%m-%d'))\n",
        "    dt += step\n",
        "\n",
        "worst_case = date_series[0:100]\n",
        "x_pred = np.array(range((len(worst_case))))\n",
        "x_pred = x_pred.reshape(-1, 1)\n",
        "\n",
        "line_cum = model_cum.predict(x_pred)"
      ],
      "execution_count": 0,
      "outputs": []
    },
    {
      "cell_type": "code",
      "metadata": {
        "id": "B5puvW5qNgy_",
        "colab_type": "code",
        "outputId": "fcc05404-c7f7-45a9-e7f6-2427a907da87",
        "colab": {
          "base_uri": "https://localhost:8080/",
          "height": 542
        }
      },
      "source": [
        "kum = [go.Scatter(\n",
        "    x=df.DT,\n",
        "    y=df['Kasus (Kumulatif)'],\n",
        "    line={\n",
        "        'color':'green',\n",
        "        'width': 3\n",
        "    },\n",
        "    #mode='lines+markers',\n",
        "    mode='markers',\n",
        "    name='Total Cases'\n",
        ")]\n",
        "\n",
        "reg_cum = go.Scatter(\n",
        "    x=worst_case,\n",
        "    y=line_cum,\n",
        "    line={\n",
        "        'color':'orange',\n",
        "        'dash': 'dash',\n",
        "        'width': 1\n",
        "    },\n",
        "    name='exp. regres.'\n",
        ")\n",
        "\n",
        "kum.append(reg_cum)\n",
        "\n",
        "layout2 = {\n",
        "    'title':{\n",
        "        'text': 'Total Cases Coronavirus in Indonesia',\n",
        "        'x':0.5,  # this position is in unit scale\n",
        "    },\n",
        "    'xaxis':{\n",
        "        'title': 'Date',\n",
        "    },\n",
        "    'yaxis':{\n",
        "        'title': 'Total Cases',\n",
        "    },\n",
        "    'legend':{\n",
        "        'orientation': 'h',\n",
        "        'x': 0.5,\n",
        "        'y': 1,  # this position is in unit scale\n",
        "        'xanchor': 'center',\n",
        "    }\n",
        "}\n",
        "\n",
        "fig2 = go.Figure(kum, layout=layout2)\n",
        "fig2.show()"
      ],
      "execution_count": 21,
      "outputs": [
        {
          "output_type": "display_data",
          "data": {
            "text/html": [
              "<html>\n",
              "<head><meta charset=\"utf-8\" /></head>\n",
              "<body>\n",
              "    <div>\n",
              "            <script src=\"https://cdnjs.cloudflare.com/ajax/libs/mathjax/2.7.5/MathJax.js?config=TeX-AMS-MML_SVG\"></script><script type=\"text/javascript\">if (window.MathJax) {MathJax.Hub.Config({SVG: {font: \"STIX-Web\"}});}</script>\n",
              "                <script type=\"text/javascript\">window.PlotlyConfig = {MathJaxConfig: 'local'};</script>\n",
              "        <script src=\"https://cdn.plot.ly/plotly-latest.min.js\"></script>    \n",
              "            <div id=\"6af6f4d5-86a0-43cb-9a89-64640cb77b5e\" class=\"plotly-graph-div\" style=\"height:525px; width:100%;\"></div>\n",
              "            <script type=\"text/javascript\">\n",
              "                \n",
              "                    window.PLOTLYENV=window.PLOTLYENV || {};\n",
              "                    \n",
              "                if (document.getElementById(\"6af6f4d5-86a0-43cb-9a89-64640cb77b5e\")) {\n",
              "                    Plotly.newPlot(\n",
              "                        '6af6f4d5-86a0-43cb-9a89-64640cb77b5e',\n",
              "                        [{\"line\": {\"color\": \"green\", \"width\": 3}, \"mode\": \"markers\", \"name\": \"Total Cases\", \"type\": \"scatter\", \"x\": [\"2020-03-02T00:00:00\", \"2020-03-03T00:00:00\", \"2020-03-04T00:00:00\", \"2020-03-05T00:00:00\", \"2020-03-06T00:00:00\", \"2020-03-07T00:00:00\", \"2020-03-08T00:00:00\", \"2020-03-09T00:00:00\", \"2020-03-10T00:00:00\", \"2020-03-11T00:00:00\", \"2020-03-12T00:00:00\", \"2020-03-13T00:00:00\", \"2020-03-14T00:00:00\", \"2020-03-15T00:00:00\", \"2020-03-16T00:00:00\", \"2020-03-17T00:00:00\", \"2020-03-18T00:00:00\", \"2020-03-19T00:00:00\", \"2020-03-20T00:00:00\", \"2020-03-21T00:00:00\", \"2020-03-22T00:00:00\", \"2020-03-23T00:00:00\", \"2020-03-24T00:00:00\", \"2020-03-25T00:00:00\", \"2020-03-26T00:00:00\", \"2020-03-27T00:00:00\", \"2020-03-28T00:00:00\", \"2020-03-29T00:00:00\", \"2020-03-30T00:00:00\", \"2020-03-31T00:00:00\", \"2020-04-01T00:00:00\", \"2020-04-02T00:00:00\", \"2020-04-03T00:00:00\", \"2020-04-04T00:00:00\", \"2020-04-05T00:00:00\", \"2020-04-06T00:00:00\", \"2020-04-07T00:00:00\", \"2020-04-08T00:00:00\", \"2020-04-09T00:00:00\", \"2020-04-10T00:00:00\", \"2020-04-11T00:00:00\", \"2020-04-12T00:00:00\", \"2020-04-13T00:00:00\", \"2020-04-14T00:00:00\", \"2020-04-15T00:00:00\", \"2020-04-16T00:00:00\", \"2020-04-17T00:00:00\", \"2020-04-18T00:00:00\", \"2020-04-19T00:00:00\", \"2020-04-20T00:00:00\", \"2020-04-21T00:00:00\"], \"y\": [2, 2, 2, 2, 4, 4, 6, 19, 27, 34, 34, 69, 96, 117, 134, 172, 227, 309, 369, 450, 514, 579, 685, 790, 893, 1046, 1155, 1285, 1414, 1528, 1677, 1790, 1986, 2092, 2273, 2491, 2738, 2956, 3293, 3512, 3842, 4241, 4557, 4839, 5136, 5516, 5923, 6248, 6575, 6760, 7135]}, {\"line\": {\"color\": \"orange\", \"dash\": \"dash\", \"width\": 1}, \"name\": \"exp. regres.\", \"type\": \"scatter\", \"x\": [\"2020-03-02\", \"2020-03-03\", \"2020-03-04\", \"2020-03-05\", \"2020-03-06\", \"2020-03-07\", \"2020-03-08\", \"2020-03-09\", \"2020-03-10\", \"2020-03-11\", \"2020-03-12\", \"2020-03-13\", \"2020-03-14\", \"2020-03-15\", \"2020-03-16\", \"2020-03-17\", \"2020-03-18\", \"2020-03-19\", \"2020-03-20\", \"2020-03-21\", \"2020-03-22\", \"2020-03-23\", \"2020-03-24\", \"2020-03-25\", \"2020-03-26\", \"2020-03-27\", \"2020-03-28\", \"2020-03-29\", \"2020-03-30\", \"2020-03-31\", \"2020-04-01\", \"2020-04-02\", \"2020-04-03\", \"2020-04-04\", \"2020-04-05\", \"2020-04-06\", \"2020-04-07\", \"2020-04-08\", \"2020-04-09\", \"2020-04-10\", \"2020-04-11\", \"2020-04-12\", \"2020-04-13\", \"2020-04-14\", \"2020-04-15\", \"2020-04-16\", \"2020-04-17\", \"2020-04-18\", \"2020-04-19\", \"2020-04-20\", \"2020-04-21\", \"2020-04-22\", \"2020-04-23\", \"2020-04-24\", \"2020-04-25\", \"2020-04-26\", \"2020-04-27\", \"2020-04-28\", \"2020-04-29\", \"2020-04-30\", \"2020-05-01\", \"2020-05-02\", \"2020-05-03\", \"2020-05-04\", \"2020-05-05\", \"2020-05-06\", \"2020-05-07\", \"2020-05-08\", \"2020-05-09\", \"2020-05-10\", \"2020-05-11\", \"2020-05-12\", \"2020-05-13\", \"2020-05-14\", \"2020-05-15\", \"2020-05-16\", \"2020-05-17\", \"2020-05-18\", \"2020-05-19\", \"2020-05-20\", \"2020-05-21\", \"2020-05-22\", \"2020-05-23\", \"2020-05-24\", \"2020-05-25\", \"2020-05-26\", \"2020-05-27\", \"2020-05-28\", \"2020-05-29\", \"2020-05-30\", \"2020-05-31\", \"2020-06-01\", \"2020-06-02\", \"2020-06-03\", \"2020-06-04\", \"2020-06-05\", \"2020-06-06\", \"2020-06-07\", \"2020-06-08\", \"2020-06-09\"], \"y\": [19.86096001179932, 19.919832195598826, 20.33193748219535, 21.450508974385926, 23.62877977496757, 27.219982986737307, 32.57735171249216, 40.05411905502915, 50.003518117145305, 62.778782001637644, 78.7331438113032, 98.219836648939, 121.59209361734202, 149.20314781930932, 181.40623235763798, 218.5545803351249, 261.0014248545672, 309.0999990187618, 363.2035359305059, 423.6652686925965, 490.8384304078303, 565.0762541790046, 646.7319731089167, 736.158820300363, 833.7100288561409, 939.7388318790471, 1054.5984624718794, 1178.6421537374338, 1312.2231387785084, 1455.6946506978993, 1609.4099225984041, 1773.7221875828186, 1948.9846787539423, 2135.5506292145697, 2333.7732720674994, 2544.005840415528, 2766.601567361452, 3001.9136860080694, 3250.295429458177, 3512.100030814571, 3787.680723180047, 4077.3907396574054, 4381.5833133494425, 4700.611677358953, 5034.829064788739, 5384.588708741591, 5750.243842320309, 6132.147698627692, 6530.653510766532, 6946.114511839632, 7378.883934949782, 7829.315013199788, 8297.76097969244, 8784.575067530539, 9290.110509816875, 9814.720539654258, 10358.758390145473, 10922.577294393319, 11506.5304855006, 12110.971196570108, 12736.252660704638, 13382.728111006989, 14050.750780579954, 14740.673902526343, 15452.850709948943, 16187.634435950551, 16945.378313633963, 17726.43557610198, 18531.1594564574, 19359.903187803022, 20213.02000324163, 21090.863135876032, 21993.78581880902, 22922.141285143403, 23876.28276798196, 24856.5635004275, 25863.33671558282, 26896.955646550698, 27957.77352643397, 29046.1435883354, 30162.419065357783, 31306.953190603945, 32480.09919717665, 33682.21031817872, 34913.63978671294, 36174.740835882134, 37465.866698789025, 38787.370608536505, 40139.60579822731, 41522.92550096425, 42937.68294985013, 44384.23137798772, 45862.92401847988, 47374.11410442934, 48918.15486893894, 50495.39954511144, 52106.20136604966, 53750.91356485641, 55429.889374634455, 57143.48202848661]}],\n",
              "                        {\"legend\": {\"orientation\": \"h\", \"x\": 0.5, \"xanchor\": \"center\", \"y\": 1}, \"template\": {\"data\": {\"bar\": [{\"error_x\": {\"color\": \"#2a3f5f\"}, \"error_y\": {\"color\": \"#2a3f5f\"}, \"marker\": {\"line\": {\"color\": \"#E5ECF6\", \"width\": 0.5}}, \"type\": \"bar\"}], \"barpolar\": [{\"marker\": {\"line\": {\"color\": \"#E5ECF6\", \"width\": 0.5}}, \"type\": \"barpolar\"}], \"carpet\": [{\"aaxis\": {\"endlinecolor\": \"#2a3f5f\", \"gridcolor\": \"white\", \"linecolor\": \"white\", \"minorgridcolor\": \"white\", \"startlinecolor\": \"#2a3f5f\"}, \"baxis\": {\"endlinecolor\": \"#2a3f5f\", \"gridcolor\": \"white\", \"linecolor\": \"white\", \"minorgridcolor\": \"white\", \"startlinecolor\": \"#2a3f5f\"}, \"type\": \"carpet\"}], \"choropleth\": [{\"colorbar\": {\"outlinewidth\": 0, \"ticks\": \"\"}, \"type\": \"choropleth\"}], \"contour\": [{\"colorbar\": {\"outlinewidth\": 0, \"ticks\": \"\"}, \"colorscale\": [[0.0, \"#0d0887\"], [0.1111111111111111, \"#46039f\"], [0.2222222222222222, \"#7201a8\"], [0.3333333333333333, \"#9c179e\"], [0.4444444444444444, \"#bd3786\"], [0.5555555555555556, \"#d8576b\"], [0.6666666666666666, \"#ed7953\"], [0.7777777777777778, \"#fb9f3a\"], [0.8888888888888888, \"#fdca26\"], [1.0, \"#f0f921\"]], \"type\": \"contour\"}], \"contourcarpet\": [{\"colorbar\": {\"outlinewidth\": 0, \"ticks\": \"\"}, \"type\": \"contourcarpet\"}], \"heatmap\": [{\"colorbar\": {\"outlinewidth\": 0, \"ticks\": \"\"}, \"colorscale\": [[0.0, \"#0d0887\"], [0.1111111111111111, \"#46039f\"], [0.2222222222222222, \"#7201a8\"], [0.3333333333333333, \"#9c179e\"], [0.4444444444444444, \"#bd3786\"], [0.5555555555555556, \"#d8576b\"], [0.6666666666666666, \"#ed7953\"], [0.7777777777777778, \"#fb9f3a\"], [0.8888888888888888, \"#fdca26\"], [1.0, \"#f0f921\"]], \"type\": \"heatmap\"}], \"heatmapgl\": [{\"colorbar\": {\"outlinewidth\": 0, \"ticks\": \"\"}, \"colorscale\": [[0.0, \"#0d0887\"], [0.1111111111111111, \"#46039f\"], [0.2222222222222222, \"#7201a8\"], [0.3333333333333333, \"#9c179e\"], [0.4444444444444444, \"#bd3786\"], [0.5555555555555556, \"#d8576b\"], [0.6666666666666666, \"#ed7953\"], [0.7777777777777778, \"#fb9f3a\"], [0.8888888888888888, \"#fdca26\"], [1.0, \"#f0f921\"]], \"type\": \"heatmapgl\"}], \"histogram\": [{\"marker\": {\"colorbar\": {\"outlinewidth\": 0, \"ticks\": \"\"}}, \"type\": \"histogram\"}], \"histogram2d\": [{\"colorbar\": {\"outlinewidth\": 0, \"ticks\": \"\"}, \"colorscale\": [[0.0, \"#0d0887\"], [0.1111111111111111, \"#46039f\"], [0.2222222222222222, \"#7201a8\"], [0.3333333333333333, \"#9c179e\"], [0.4444444444444444, \"#bd3786\"], [0.5555555555555556, \"#d8576b\"], [0.6666666666666666, \"#ed7953\"], [0.7777777777777778, \"#fb9f3a\"], [0.8888888888888888, \"#fdca26\"], [1.0, \"#f0f921\"]], \"type\": \"histogram2d\"}], \"histogram2dcontour\": [{\"colorbar\": {\"outlinewidth\": 0, \"ticks\": \"\"}, \"colorscale\": [[0.0, \"#0d0887\"], [0.1111111111111111, \"#46039f\"], [0.2222222222222222, \"#7201a8\"], [0.3333333333333333, \"#9c179e\"], [0.4444444444444444, \"#bd3786\"], [0.5555555555555556, \"#d8576b\"], [0.6666666666666666, \"#ed7953\"], [0.7777777777777778, \"#fb9f3a\"], [0.8888888888888888, \"#fdca26\"], [1.0, \"#f0f921\"]], \"type\": \"histogram2dcontour\"}], \"mesh3d\": [{\"colorbar\": {\"outlinewidth\": 0, \"ticks\": \"\"}, \"type\": \"mesh3d\"}], \"parcoords\": [{\"line\": {\"colorbar\": {\"outlinewidth\": 0, \"ticks\": \"\"}}, \"type\": \"parcoords\"}], \"pie\": [{\"automargin\": true, \"type\": \"pie\"}], \"scatter\": [{\"marker\": {\"colorbar\": {\"outlinewidth\": 0, \"ticks\": \"\"}}, \"type\": \"scatter\"}], \"scatter3d\": [{\"line\": {\"colorbar\": {\"outlinewidth\": 0, \"ticks\": \"\"}}, \"marker\": {\"colorbar\": {\"outlinewidth\": 0, \"ticks\": \"\"}}, \"type\": \"scatter3d\"}], \"scattercarpet\": [{\"marker\": {\"colorbar\": {\"outlinewidth\": 0, \"ticks\": \"\"}}, \"type\": \"scattercarpet\"}], \"scattergeo\": [{\"marker\": {\"colorbar\": {\"outlinewidth\": 0, \"ticks\": \"\"}}, \"type\": \"scattergeo\"}], \"scattergl\": [{\"marker\": {\"colorbar\": {\"outlinewidth\": 0, \"ticks\": \"\"}}, \"type\": \"scattergl\"}], \"scattermapbox\": [{\"marker\": {\"colorbar\": {\"outlinewidth\": 0, \"ticks\": \"\"}}, \"type\": \"scattermapbox\"}], \"scatterpolar\": [{\"marker\": {\"colorbar\": {\"outlinewidth\": 0, \"ticks\": \"\"}}, \"type\": \"scatterpolar\"}], \"scatterpolargl\": [{\"marker\": {\"colorbar\": {\"outlinewidth\": 0, \"ticks\": \"\"}}, \"type\": \"scatterpolargl\"}], \"scatterternary\": [{\"marker\": {\"colorbar\": {\"outlinewidth\": 0, \"ticks\": \"\"}}, \"type\": \"scatterternary\"}], \"surface\": [{\"colorbar\": {\"outlinewidth\": 0, \"ticks\": \"\"}, \"colorscale\": [[0.0, \"#0d0887\"], [0.1111111111111111, \"#46039f\"], [0.2222222222222222, \"#7201a8\"], [0.3333333333333333, \"#9c179e\"], [0.4444444444444444, \"#bd3786\"], [0.5555555555555556, \"#d8576b\"], [0.6666666666666666, \"#ed7953\"], [0.7777777777777778, \"#fb9f3a\"], [0.8888888888888888, \"#fdca26\"], [1.0, \"#f0f921\"]], \"type\": \"surface\"}], \"table\": [{\"cells\": {\"fill\": {\"color\": \"#EBF0F8\"}, \"line\": {\"color\": \"white\"}}, \"header\": {\"fill\": {\"color\": \"#C8D4E3\"}, \"line\": {\"color\": \"white\"}}, \"type\": \"table\"}]}, \"layout\": {\"annotationdefaults\": {\"arrowcolor\": \"#2a3f5f\", \"arrowhead\": 0, \"arrowwidth\": 1}, \"coloraxis\": {\"colorbar\": {\"outlinewidth\": 0, \"ticks\": \"\"}}, \"colorscale\": {\"diverging\": [[0, \"#8e0152\"], [0.1, \"#c51b7d\"], [0.2, \"#de77ae\"], [0.3, \"#f1b6da\"], [0.4, \"#fde0ef\"], [0.5, \"#f7f7f7\"], [0.6, \"#e6f5d0\"], [0.7, \"#b8e186\"], [0.8, \"#7fbc41\"], [0.9, \"#4d9221\"], [1, \"#276419\"]], \"sequential\": [[0.0, \"#0d0887\"], [0.1111111111111111, \"#46039f\"], [0.2222222222222222, \"#7201a8\"], [0.3333333333333333, \"#9c179e\"], [0.4444444444444444, \"#bd3786\"], [0.5555555555555556, \"#d8576b\"], [0.6666666666666666, \"#ed7953\"], [0.7777777777777778, \"#fb9f3a\"], [0.8888888888888888, \"#fdca26\"], [1.0, \"#f0f921\"]], \"sequentialminus\": [[0.0, \"#0d0887\"], [0.1111111111111111, \"#46039f\"], [0.2222222222222222, \"#7201a8\"], [0.3333333333333333, \"#9c179e\"], [0.4444444444444444, \"#bd3786\"], [0.5555555555555556, \"#d8576b\"], [0.6666666666666666, \"#ed7953\"], [0.7777777777777778, \"#fb9f3a\"], [0.8888888888888888, \"#fdca26\"], [1.0, \"#f0f921\"]]}, \"colorway\": [\"#636efa\", \"#EF553B\", \"#00cc96\", \"#ab63fa\", \"#FFA15A\", \"#19d3f3\", \"#FF6692\", \"#B6E880\", \"#FF97FF\", \"#FECB52\"], \"font\": {\"color\": \"#2a3f5f\"}, \"geo\": {\"bgcolor\": \"white\", \"lakecolor\": \"white\", \"landcolor\": \"#E5ECF6\", \"showlakes\": true, \"showland\": true, \"subunitcolor\": \"white\"}, \"hoverlabel\": {\"align\": \"left\"}, \"hovermode\": \"closest\", \"mapbox\": {\"style\": \"light\"}, \"paper_bgcolor\": \"white\", \"plot_bgcolor\": \"#E5ECF6\", \"polar\": {\"angularaxis\": {\"gridcolor\": \"white\", \"linecolor\": \"white\", \"ticks\": \"\"}, \"bgcolor\": \"#E5ECF6\", \"radialaxis\": {\"gridcolor\": \"white\", \"linecolor\": \"white\", \"ticks\": \"\"}}, \"scene\": {\"xaxis\": {\"backgroundcolor\": \"#E5ECF6\", \"gridcolor\": \"white\", \"gridwidth\": 2, \"linecolor\": \"white\", \"showbackground\": true, \"ticks\": \"\", \"zerolinecolor\": \"white\"}, \"yaxis\": {\"backgroundcolor\": \"#E5ECF6\", \"gridcolor\": \"white\", \"gridwidth\": 2, \"linecolor\": \"white\", \"showbackground\": true, \"ticks\": \"\", \"zerolinecolor\": \"white\"}, \"zaxis\": {\"backgroundcolor\": \"#E5ECF6\", \"gridcolor\": \"white\", \"gridwidth\": 2, \"linecolor\": \"white\", \"showbackground\": true, \"ticks\": \"\", \"zerolinecolor\": \"white\"}}, \"shapedefaults\": {\"line\": {\"color\": \"#2a3f5f\"}}, \"ternary\": {\"aaxis\": {\"gridcolor\": \"white\", \"linecolor\": \"white\", \"ticks\": \"\"}, \"baxis\": {\"gridcolor\": \"white\", \"linecolor\": \"white\", \"ticks\": \"\"}, \"bgcolor\": \"#E5ECF6\", \"caxis\": {\"gridcolor\": \"white\", \"linecolor\": \"white\", \"ticks\": \"\"}}, \"title\": {\"x\": 0.05}, \"xaxis\": {\"automargin\": true, \"gridcolor\": \"white\", \"linecolor\": \"white\", \"ticks\": \"\", \"title\": {\"standoff\": 15}, \"zerolinecolor\": \"white\", \"zerolinewidth\": 2}, \"yaxis\": {\"automargin\": true, \"gridcolor\": \"white\", \"linecolor\": \"white\", \"ticks\": \"\", \"title\": {\"standoff\": 15}, \"zerolinecolor\": \"white\", \"zerolinewidth\": 2}}}, \"title\": {\"text\": \"Total Cases Coronavirus in Indonesia\", \"x\": 0.5}, \"xaxis\": {\"title\": {\"text\": \"Date\"}}, \"yaxis\": {\"title\": {\"text\": \"Total Cases\"}}},\n",
              "                        {\"responsive\": true}\n",
              "                    ).then(function(){\n",
              "                            \n",
              "var gd = document.getElementById('6af6f4d5-86a0-43cb-9a89-64640cb77b5e');\n",
              "var x = new MutationObserver(function (mutations, observer) {{\n",
              "        var display = window.getComputedStyle(gd).display;\n",
              "        if (!display || display === 'none') {{\n",
              "            console.log([gd, 'removed!']);\n",
              "            Plotly.purge(gd);\n",
              "            observer.disconnect();\n",
              "        }}\n",
              "}});\n",
              "\n",
              "// Listen for the removal of the full notebook cells\n",
              "var notebookContainer = gd.closest('#notebook-container');\n",
              "if (notebookContainer) {{\n",
              "    x.observe(notebookContainer, {childList: true});\n",
              "}}\n",
              "\n",
              "// Listen for the clearing of the current output cell\n",
              "var outputEl = gd.closest('.output');\n",
              "if (outputEl) {{\n",
              "    x.observe(outputEl, {childList: true});\n",
              "}}\n",
              "\n",
              "                        })\n",
              "                };\n",
              "                \n",
              "            </script>\n",
              "        </div>\n",
              "</body>\n",
              "</html>"
            ]
          },
          "metadata": {
            "tags": []
          }
        }
      ]
    },
    {
      "cell_type": "markdown",
      "metadata": {
        "id": "ci7sTEB3Zruq",
        "colab_type": "text"
      },
      "source": [
        "# SIR Model Analysis with optimizer\n",
        "\n",
        "An important rule to remember when using `odeint`, is to make sure that `dt` is small enough and it must not similar to the time interval in the dataset which is `dt` is equal to a day.\n",
        "That's why we should define a `multplier_or_skip` variable."
      ]
    },
    {
      "cell_type": "code",
      "metadata": {
        "id": "ZM1-h478ZuFm",
        "colab_type": "code",
        "colab": {}
      },
      "source": [
        "def seird(y, t, N, gamma, beta, delta, rho, alpha):\n",
        "  S, E, I, R, D = y\n",
        "  dS = -beta(t) * I * S / N\n",
        "  dE = beta(t) * I * S / N - delta * E\n",
        "  dR = gamma * (1- alpha) * I\n",
        "  dD = rho * alpha * I\n",
        "  dI = delta * E - (dD + dR)\n",
        "  return dS, dE, dI, dR, dD"
      ],
      "execution_count": 0,
      "outputs": []
    },
    {
      "cell_type": "markdown",
      "metadata": {
        "id": "PvQY9B8bQrUG",
        "colab_type": "text"
      },
      "source": [
        "Run one of the below cells each time you change which variables\n",
        "you want to optimize."
      ]
    },
    {
      "cell_type": "markdown",
      "metadata": {
        "id": "GJexHRiSDJQO",
        "colab_type": "text"
      },
      "source": [
        "## optimize `gamma`, `R_0_start`, `delta`, `rho`, and `alpha` \n",
        "(need to choose parameters carefully)"
      ]
    },
    {
      "cell_type": "code",
      "metadata": {
        "id": "lUjhXwXPoL2m",
        "colab_type": "code",
        "colab": {
          "base_uri": "https://localhost:8080/",
          "height": 199
        },
        "outputId": "44f8115b-b1e2-4e52-c647-e60e15ce629d"
      },
      "source": [
        "def loss_func(point, data, S0, E0, I0, R0, D0, N, multiplier_or_skip):\n",
        "\n",
        "  gamma, R_0_start, delta, rho, alpha = point\n",
        "\n",
        "  k, x0, R_0_end = 0.05, 30, 0.05\n",
        "  logistic_R_0 = lambda t: (R_0_start-R_0_end) / (1 + np.exp(-k*(-t+x0))) + R_0_end\n",
        "  beta = lambda t: logistic_R_0(t) * gamma\n",
        "\n",
        "  N_t = len(data)\n",
        "  t = np.linspace(0, N_t, N_t*multiplier_or_skip)\n",
        "  y0 = S0, E0, I0, R0, D0\n",
        "\n",
        "  seird_res = odeint(seird, y0, t, args=(N, gamma, beta, delta, rho, alpha))\n",
        "  S, E, I, R, D= seird_res.T\n",
        "\n",
        "\n",
        "  loss = mse(data, I[::multiplier_or_skip], squared=True)\n",
        "  #print(round(loss, 2))\n",
        "  return loss\n",
        "\n",
        "\n",
        "def train(data, S0, E0, I0, R0, D0, N, multiplier_or_skip):\n",
        "  optimal = minimize(loss_func, [0.1, 10, 1/14., 1/21., 0.1], \n",
        "                     args=(data, S0, E0, I0, R0, D0, N, multiplier_or_skip), \n",
        "                     method='L-BFGS-B', bounds=[(1e-8, 1), (1e-8, 1), \n",
        "                                                (1e-8, 1), (1e-8, 1),\n",
        "                                                (1e-8, 1)])\n",
        "  print(optimal)\n",
        "  gamma, R_0_start, delta, rho, alpha = optimal.x\n",
        "  return gamma, R_0_start, delta, rho, alpha\n",
        "\n",
        "\n",
        "# -----------------------------------------------------------------------------\n",
        "\n",
        "N = 40_000_000\n",
        "E0, I0, R0, D0 = 2, 2, 0, 0\n",
        "S0 = N-(E0+I0+R0+D0) \n",
        "\n",
        "N_t = len(date_series)     # this is not the length of available data\n",
        "multiplier_or_skip = 3     # if N_t = 300 -> len(t) will be = 1000\n",
        "t = np.linspace(0, N_t, N_t*multiplier_or_skip)\n",
        "y0 = S0, E0, I0, R0, D0\n",
        "\n",
        "\n",
        "gamma, R_0_start, delta, rho, alpha = train(df['Kasus (Kumulatif)'], S0, E0, I0, R0, D0, N, multiplier_or_skip)\n",
        "\n",
        "k = 0.05    # how quickly R_0 declines\n",
        "x0 = 30     # the x-value of the inflection point i.e. the date of the steepest \n",
        "            # decline in R_0,  this could be thought of as the main “lockdown” date)\n",
        "R_0_end = 0.05\n",
        "\n",
        "logistic_R_0 = lambda t: (R_0_start-R_0_end) / (1 + np.exp(-k*(-t+x0))) + R_0_end\n",
        "beta = lambda t: logistic_R_0(t) * gamma\n",
        "\n",
        "seird_res = odeint(seird, y0, t, args=(N, gamma, beta, delta, rho, alpha))\n",
        "S, E, I, R, D= seird_res.T"
      ],
      "execution_count": 154,
      "outputs": [
        {
          "output_type": "stream",
          "text": [
            "      fun: 37241.75069420016\n",
            " hess_inv: <5x5 LbfgsInvHessProduct with dtype=float64>\n",
            "      jac: array([   287.69572964,   -244.74284146, -13631.30868413,   -535.74476624,\n",
            "          332.48725231])\n",
            "  message: b'CONVERGENCE: REL_REDUCTION_OF_F_<=_FACTR*EPSMCH'\n",
            "     nfev: 630\n",
            "      nit: 57\n",
            "   status: 0\n",
            "  success: True\n",
            "        x: array([0.66390923, 1.        , 1.        , 0.17419302, 1.        ])\n"
          ],
          "name": "stdout"
        }
      ]
    },
    {
      "cell_type": "markdown",
      "metadata": {
        "id": "U9Zx2AipDYU3",
        "colab_type": "text"
      },
      "source": [
        "## optimize `gamma`, `R_0_start`, and `alpha`\n",
        "(need to choose parameters carefully)"
      ]
    },
    {
      "cell_type": "code",
      "metadata": {
        "id": "rUCtfyZZ2NX6",
        "colab_type": "code",
        "colab": {}
      },
      "source": [
        "def loss_func2(point, data, S0, E0, I0, R0, D0, N, delta, rho, multiplier_or_skip):\n",
        "\n",
        "  gamma, R_0_start, alpha = point\n",
        "\n",
        "  k, x0, R_0_end = 0.05, 30, 0.05\n",
        "  logistic_R_0 = lambda t: (R_0_start-R_0_end) / (1 + np.exp(-k*(-t+x0))) + R_0_end\n",
        "  beta = lambda t: logistic_R_0(t) * gamma\n",
        "\n",
        "  N_t = len(data)\n",
        "  t = np.linspace(0, N_t, N_t*multiplier_or_skip)\n",
        "  y0 = S0, E0, I0, R0, D0\n",
        "\n",
        "  seird_res = odeint(seird, y0, t, args=(N, gamma, beta, delta, rho, alpha))\n",
        "  S, E, I, R, D= seird_res.T\n",
        "\n",
        "  loss = mse(data, I[::multiplier_or_skip], squared=True)\n",
        "  #print(round(loss, 2))\n",
        "  return loss\n",
        "\n",
        "\n",
        "def train2(data, S0, E0, I0, R0, D0, N, delta, rho, multiplier_or_skip):\n",
        "  optimal = minimize(loss_func2, [0.1, 10, 0.2], \n",
        "                     args=(data, S0, E0, I0, R0, D0, N, delta, rho, multiplier_or_skip), \n",
        "                     method='L-BFGS-B', bounds=[(1e-3, 0.5), (10, 20), \n",
        "                                                (1e-3, 0.5)])\n",
        "  print(optimal)\n",
        "  gamma, R_0_start, alpha = optimal.x\n",
        "  return gamma, R_0_start, alpha\n",
        "\n",
        "\n",
        "# -----------------------------------------------------------------------------\n",
        "\n",
        "N = 40_000_000\n",
        "E0, I0, R0, D0 = 2, 2, 0, 0\n",
        "S0 = N-(E0+I0+R0+D0) \n",
        "\n",
        "N_t = len(date_series)     # this is not the length of available data\n",
        "multiplier_or_skip = 3     # if N_t = 300 -> len(t) will be = 1000\n",
        "t = np.linspace(0, N_t, N_t*multiplier_or_skip)\n",
        "y0 = S0, E0, I0, R0, D0\n",
        "\n",
        "delta = 1/14.\n",
        "rho = 1/21.\n",
        "\n",
        "gamma, R_0_start, alpha = train2(df['Kasus (Kumulatif)'], S0, E0, I0, R0, D0, N, delta, rho, multiplier_or_skip)\n",
        "\n",
        "k = 0.05    # how quickly R_0 declines\n",
        "x0 = 30     # the x-value of the inflection point i.e. the date of the steepest \n",
        "            # decline in R_0,  this could be thought of as the main “lockdown” date)\n",
        "R_0_end = 0.05\n",
        "\n",
        "logistic_R_0 = lambda t: (R_0_start-R_0_end) / (1 + np.exp(-k*(-t+x0))) + R_0_end\n",
        "beta = lambda t: logistic_R_0(t) * gamma\n",
        "\n",
        "seird_res = odeint(seird, y0, t, args=(N, gamma, beta, delta, rho, alpha))\n",
        "S, E, I, R, D= seird_res.T"
      ],
      "execution_count": 0,
      "outputs": []
    },
    {
      "cell_type": "markdown",
      "metadata": {
        "id": "6XPbF26yVHl0",
        "colab_type": "text"
      },
      "source": [
        "## optimize `gamma`, `R_0_start`, `alpha`, `k`, `x0`, and `R_0_end`\n",
        "\n",
        "(This is not giving the best result. Depend heavily in the choice of the boundary.)"
      ]
    },
    {
      "cell_type": "code",
      "metadata": {
        "id": "OhU5GMzXRNoL",
        "colab_type": "code",
        "colab": {
          "base_uri": "https://localhost:8080/",
          "height": 199
        },
        "outputId": "1b8f0cab-5167-4bdd-ddbc-64bef862998d"
      },
      "source": [
        "def loss_func3(point, data, S0, E0, I0, R0, D0, N, delta, rho, multiplier_or_skip):\n",
        "\n",
        "  gamma, R_0_start, alpha, k, x0, R_0_end = point\n",
        "\n",
        "  logistic_R_0 = lambda t: (R_0_start-R_0_end) / (1 + np.exp(-k*(-t+x0))) + R_0_end\n",
        "  beta = lambda t: logistic_R_0(t) * gamma\n",
        "\n",
        "  N_t = len(data)\n",
        "  t = np.linspace(0, N_t, N_t*multiplier_or_skip)\n",
        "  y0 = S0, E0, I0, R0, D0\n",
        "\n",
        "  seird_res = odeint(seird, y0, t, args=(N, gamma, beta, delta, rho, alpha))\n",
        "  S, E, I, R, D= seird_res.T\n",
        "\n",
        "  loss = mse(data, I[::multiplier_or_skip], squared=True)\n",
        "  #print(round(loss, 2))\n",
        "  return loss\n",
        "\n",
        "\n",
        "def train3(data, S0, E0, I0, R0, D0, N, delta, rho, multiplier_or_skip):\n",
        "  optimal = minimize(loss_func3, [0.1, 10, 0.2, 0.05, 30, 0.05], \n",
        "                     args=(data, S0, E0, I0, R0, D0, N, delta, rho, multiplier_or_skip), \n",
        "                     method='L-BFGS-B', bounds=[(0.09, 0.1), (10, 11), \n",
        "                                                (0.1, 0.2), (0.05, 0.06),\n",
        "                                                (25, 30), (0.05, 0.06)])\n",
        "  print(optimal)\n",
        "  return optimal.x\n",
        "\n",
        "\n",
        "# -----------------------------------------------------------------------------\n",
        "\n",
        "N = 40_000_000\n",
        "E0, I0, R0, D0 = 2, 2, 0, 0\n",
        "S0 = N-(E0+I0+R0+D0) \n",
        "\n",
        "N_t = len(date_series)     # this is not the length of available data\n",
        "multiplier_or_skip = 3     # if N_t = 300 -> len(t) will be = 1000\n",
        "t = np.linspace(0, N_t, N_t*multiplier_or_skip)\n",
        "y0 = S0, E0, I0, R0, D0\n",
        "\n",
        "delta = 1/14.\n",
        "rho = 1/21.\n",
        "\n",
        "gamma, R_0_start, alpha, k, x0, R_0_end = train3(df['Kasus (Kumulatif)'], S0, E0, I0, R0, D0, N, delta, rho, multiplier_or_skip)\n",
        "\n",
        "#k: how quickly R_0 declines\n",
        "#x0: the x-value of the inflection point i.e. the date of the steepest \n",
        "#    decline in R_0,  this could be thought of as the main “lockdown” date)\n",
        "\n",
        "logistic_R_0 = lambda t: (R_0_start-R_0_end) / (1 + np.exp(-k*(-t+x0))) + R_0_end\n",
        "beta = lambda t: logistic_R_0(t) * gamma\n",
        "\n",
        "seird_res = odeint(seird, y0, t, args=(N, gamma, beta, delta, rho, alpha))\n",
        "S, E, I, R, D= seird_res.T"
      ],
      "execution_count": 181,
      "outputs": [
        {
          "output_type": "stream",
          "text": [
            "      fun: 6418118.956626135\n",
            " hess_inv: <6x6 LbfgsInvHessProduct with dtype=float64>\n",
            "      jac: array([-50808375.04938245,   -757149.14128184,  -2146866.6382134 ,\n",
            "       -16019992.43721366,   -176459.17832851,   -517422.98528552])\n",
            "  message: b'CONVERGENCE: NORM_OF_PROJECTED_GRADIENT_<=_PGTOL'\n",
            "     nfev: 14\n",
            "      nit: 1\n",
            "   status: 0\n",
            "  success: True\n",
            "        x: array([ 0.1 , 11.  ,  0.2 ,  0.06, 30.  ,  0.06])\n"
          ],
          "name": "stdout"
        }
      ]
    },
    {
      "cell_type": "markdown",
      "metadata": {
        "id": "FayvZZqHRIcU",
        "colab_type": "text"
      },
      "source": [
        "## Plotting"
      ]
    },
    {
      "cell_type": "code",
      "metadata": {
        "id": "YC85z78Vg6uc",
        "colab_type": "code",
        "outputId": "b7d0227d-93d9-4f27-8171-365ffa8ca165",
        "colab": {
          "base_uri": "https://localhost:8080/",
          "height": 542
        }
      },
      "source": [
        "name = ['Exposed', 'Infected', 'Recovered', 'Death']\n",
        "\n",
        "data = [go.Scatter(\n",
        "    x=date_series,\n",
        "    y=ode[::multiplier_or_skip],\n",
        "    name=name[i]\n",
        ") for i, ode in enumerate([E, I, R, D])]\n",
        "\n",
        "\n",
        "layout3 = {\n",
        "    'title':{\n",
        "        'text': 'SEIRD Model for Coronavirus in Indonesia',\n",
        "        'x':0.5, #range x axis 0 - 1\n",
        "    },\n",
        "    'xaxis':{\n",
        "        'title': 'Date',\n",
        "    },\n",
        "    'yaxis':{\n",
        "        'title': 'Total Cases',\n",
        "    },\n",
        "}\n",
        "\n",
        "\n",
        "fig = go.Figure(data=data, layout=layout3)\n",
        "fig.show()"
      ],
      "execution_count": 182,
      "outputs": [
        {
          "output_type": "display_data",
          "data": {
            "text/html": [
              "<html>\n",
              "<head><meta charset=\"utf-8\" /></head>\n",
              "<body>\n",
              "    <div>\n",
              "            <script src=\"https://cdnjs.cloudflare.com/ajax/libs/mathjax/2.7.5/MathJax.js?config=TeX-AMS-MML_SVG\"></script><script type=\"text/javascript\">if (window.MathJax) {MathJax.Hub.Config({SVG: {font: \"STIX-Web\"}});}</script>\n",
              "                <script type=\"text/javascript\">window.PlotlyConfig = {MathJaxConfig: 'local'};</script>\n",
              "        <script src=\"https://cdn.plot.ly/plotly-latest.min.js\"></script>    \n",
              "            <div id=\"7e5cb559-9a7b-4f03-a240-2d56d420f26c\" class=\"plotly-graph-div\" style=\"height:525px; width:100%;\"></div>\n",
              "            <script type=\"text/javascript\">\n",
              "                \n",
              "                    window.PLOTLYENV=window.PLOTLYENV || {};\n",
              "                    \n",
              "                if (document.getElementById(\"7e5cb559-9a7b-4f03-a240-2d56d420f26c\")) {\n",
              "                    Plotly.newPlot(\n",
              "                        '7e5cb559-9a7b-4f03-a240-2d56d420f26c',\n",
              "                        [{\"name\": \"Exposed\", \"type\": \"scatter\", \"x\": [\"2020-03-02\", \"2020-03-03\", \"2020-03-04\", \"2020-03-05\", \"2020-03-06\", \"2020-03-07\", \"2020-03-08\", \"2020-03-09\", \"2020-03-10\", \"2020-03-11\", \"2020-03-12\", \"2020-03-13\", \"2020-03-14\", \"2020-03-15\", \"2020-03-16\", \"2020-03-17\", \"2020-03-18\", \"2020-03-19\", \"2020-03-20\", \"2020-03-21\", \"2020-03-22\", \"2020-03-23\", \"2020-03-24\", \"2020-03-25\", \"2020-03-26\", \"2020-03-27\", \"2020-03-28\", \"2020-03-29\", \"2020-03-30\", \"2020-03-31\", \"2020-04-01\", \"2020-04-02\", \"2020-04-03\", \"2020-04-04\", \"2020-04-05\", \"2020-04-06\", \"2020-04-07\", \"2020-04-08\", \"2020-04-09\", \"2020-04-10\", \"2020-04-11\", \"2020-04-12\", \"2020-04-13\", \"2020-04-14\", \"2020-04-15\", \"2020-04-16\", \"2020-04-17\", \"2020-04-18\", \"2020-04-19\", \"2020-04-20\", \"2020-04-21\", \"2020-04-22\", \"2020-04-23\", \"2020-04-24\", \"2020-04-25\", \"2020-04-26\", \"2020-04-27\", \"2020-04-28\", \"2020-04-29\", \"2020-04-30\", \"2020-05-01\", \"2020-05-02\", \"2020-05-03\", \"2020-05-04\", \"2020-05-05\", \"2020-05-06\", \"2020-05-07\", \"2020-05-08\", \"2020-05-09\", \"2020-05-10\", \"2020-05-11\", \"2020-05-12\", \"2020-05-13\", \"2020-05-14\", \"2020-05-15\", \"2020-05-16\", \"2020-05-17\", \"2020-05-18\", \"2020-05-19\", \"2020-05-20\", \"2020-05-21\", \"2020-05-22\", \"2020-05-23\", \"2020-05-24\", \"2020-05-25\", \"2020-05-26\", \"2020-05-27\", \"2020-05-28\", \"2020-05-29\", \"2020-05-30\", \"2020-05-31\", \"2020-06-01\", \"2020-06-02\", \"2020-06-03\", \"2020-06-04\", \"2020-06-05\", \"2020-06-06\", \"2020-06-07\", \"2020-06-08\", \"2020-06-09\", \"2020-06-10\", \"2020-06-11\", \"2020-06-12\", \"2020-06-13\", \"2020-06-14\", \"2020-06-15\", \"2020-06-16\", \"2020-06-17\", \"2020-06-18\", \"2020-06-19\", \"2020-06-20\", \"2020-06-21\", \"2020-06-22\", \"2020-06-23\", \"2020-06-24\", \"2020-06-25\", \"2020-06-26\", \"2020-06-27\", \"2020-06-28\", \"2020-06-29\", \"2020-06-30\", \"2020-07-01\", \"2020-07-02\", \"2020-07-03\", \"2020-07-04\", \"2020-07-05\", \"2020-07-06\", \"2020-07-07\", \"2020-07-08\", \"2020-07-09\", \"2020-07-10\", \"2020-07-11\", \"2020-07-12\", \"2020-07-13\", \"2020-07-14\", \"2020-07-15\", \"2020-07-16\", \"2020-07-17\", \"2020-07-18\", \"2020-07-19\", \"2020-07-20\", \"2020-07-21\", \"2020-07-22\", \"2020-07-23\", \"2020-07-24\", \"2020-07-25\", \"2020-07-26\", \"2020-07-27\", \"2020-07-28\", \"2020-07-29\", \"2020-07-30\", \"2020-07-31\", \"2020-08-01\", \"2020-08-02\", \"2020-08-03\", \"2020-08-04\", \"2020-08-05\", \"2020-08-06\", \"2020-08-07\", \"2020-08-08\", \"2020-08-09\", \"2020-08-10\", \"2020-08-11\", \"2020-08-12\", \"2020-08-13\", \"2020-08-14\", \"2020-08-15\", \"2020-08-16\", \"2020-08-17\", \"2020-08-18\", \"2020-08-19\", \"2020-08-20\", \"2020-08-21\", \"2020-08-22\", \"2020-08-23\", \"2020-08-24\", \"2020-08-25\", \"2020-08-26\", \"2020-08-27\", \"2020-08-28\", \"2020-08-29\", \"2020-08-30\", \"2020-08-31\", \"2020-09-01\", \"2020-09-02\", \"2020-09-03\", \"2020-09-04\", \"2020-09-05\", \"2020-09-06\", \"2020-09-07\", \"2020-09-08\", \"2020-09-09\", \"2020-09-10\", \"2020-09-11\", \"2020-09-12\", \"2020-09-13\", \"2020-09-14\", \"2020-09-15\", \"2020-09-16\", \"2020-09-17\", \"2020-09-18\", \"2020-09-19\", \"2020-09-20\", \"2020-09-21\", \"2020-09-22\", \"2020-09-23\", \"2020-09-24\", \"2020-09-25\", \"2020-09-26\", \"2020-09-27\", \"2020-09-28\", \"2020-09-29\", \"2020-09-30\", \"2020-10-01\", \"2020-10-02\", \"2020-10-03\", \"2020-10-04\", \"2020-10-05\", \"2020-10-06\", \"2020-10-07\", \"2020-10-08\", \"2020-10-09\", \"2020-10-10\", \"2020-10-11\", \"2020-10-12\", \"2020-10-13\", \"2020-10-14\", \"2020-10-15\", \"2020-10-16\", \"2020-10-17\", \"2020-10-18\", \"2020-10-19\", \"2020-10-20\", \"2020-10-21\", \"2020-10-22\", \"2020-10-23\", \"2020-10-24\", \"2020-10-25\", \"2020-10-26\", \"2020-10-27\", \"2020-10-28\", \"2020-10-29\", \"2020-10-30\", \"2020-10-31\", \"2020-11-01\", \"2020-11-02\", \"2020-11-03\", \"2020-11-04\", \"2020-11-05\", \"2020-11-06\", \"2020-11-07\", \"2020-11-08\", \"2020-11-09\", \"2020-11-10\", \"2020-11-11\", \"2020-11-12\", \"2020-11-13\", \"2020-11-14\", \"2020-11-15\", \"2020-11-16\", \"2020-11-17\", \"2020-11-18\", \"2020-11-19\", \"2020-11-20\", \"2020-11-21\", \"2020-11-22\", \"2020-11-23\", \"2020-11-24\", \"2020-11-25\", \"2020-11-26\", \"2020-11-27\", \"2020-11-28\", \"2020-11-29\", \"2020-11-30\", \"2020-12-01\", \"2020-12-02\", \"2020-12-03\", \"2020-12-04\", \"2020-12-05\", \"2020-12-06\", \"2020-12-07\", \"2020-12-08\", \"2020-12-09\", \"2020-12-10\", \"2020-12-11\", \"2020-12-12\", \"2020-12-13\", \"2020-12-14\", \"2020-12-15\", \"2020-12-16\", \"2020-12-17\", \"2020-12-18\", \"2020-12-19\", \"2020-12-20\", \"2020-12-21\", \"2020-12-22\", \"2020-12-23\", \"2020-12-24\", \"2020-12-25\", \"2020-12-26\", \"2020-12-27\", \"2020-12-28\", \"2020-12-29\"], \"y\": [2.0, 3.681965373743125, 5.3049058798417414, 6.964150491750937, 8.739867959619462, 10.703431206713137, 12.922099073487576, 15.462526542305636, 18.393456431084967, 21.787836920817558, 25.724530427297083, 30.289724202292835, 35.57811086178603, 41.69387886599645, 48.75152966442633, 56.87652222835813, 66.20573220651971, 76.88770410156107, 89.08266717903477, 102.96228186336484, 118.70907960572326, 136.51555946644507, 156.5829070646342, 179.1193049796046, 204.33781073879425, 232.45378788497496, 263.6818877098671, 298.23259097452296, 336.308338471601, 378.09929463524225, 423.7788049790071, 473.4986267672349, 527.3840351491845, 585.5289138869186, 647.9909579825455, 714.7871290035283, 785.8894985821072, 861.2216260714574, 940.6556072253678, 1024.0099197425543, 1111.0481757517969, 1201.4788728257033, 1294.956204590771, 1391.0819675140212, 1489.4085679937737, 1589.4430953065216, 1690.6524045933832, 1792.4691140754985, 1894.298394543152, 1995.5254079176666, 2095.523229595858, 2193.661078297157, 2289.3126684667427, 2381.864498011064, 2470.72389250458, 2555.326634105676, 2635.1440194560573, 2709.689215258838, 2778.522806959286, 2841.257419795641, 2897.561398104508, 2947.161481491042, 2989.8444792040236, 3025.457954754576, 3053.9099627356977, 3075.167899655258, 3089.2565325558944, 3096.255309515541, 3096.2950267452475, 3089.553988307786, 3076.2537273984435, 3056.6544040836147, 3031.0500099722044, 2999.7634582945884, 2963.1416216656353, 2921.5504381669552, 2875.3701971560417, 2824.990932707781, 2770.8081263783233, 2713.2186892938103, 2652.617254593696, 2589.392827906701, 2523.925795080775, 2456.585296808688, 2387.726971480146, 2317.691058976196, 2246.8008503212304, 2175.3614706725016, 2103.6589769717266, 2031.9597318428243, 1960.5100623493895, 1889.5361427343191, 1819.2440885632382, 1749.8202583633606, 1681.4316936056066, 1614.2267054392416, 1548.3355887558241, 1483.8714028435536, 1420.9308434065915, 1359.5951693235759, 1299.9311466230433, 1241.9920350386296, 1185.81857594071, 1131.4399664397106, 1078.8748364129508, 1028.1321944778592, 979.2123418546835, 932.1077612144225, 886.8039588015681, 843.2802649636905, 801.510592825726, 761.4641492513313, 723.1060957329161, 686.3981645322532, 651.2992277448088, 617.7658197508462, 585.7526147476012, 555.212861070912, 526.0987739385147, 498.36189024280907, 471.9533822149597, 446.8243425067398, 422.92602775568946, 400.21008122599375, 378.6287184350323, 358.1348923942917, 338.6824332766469, 320.2261634457206, 302.7219988564918, 286.1270235743571, 270.3995572065953, 255.49920398120958, 241.3868822501035, 228.02485481430665, 215.3767374826678, 203.40750757940555, 192.0834981230162, 181.37238947638744, 171.24319192951538, 161.66622571395786, 152.61309541665372, 144.05666176701124, 135.97100942967077, 128.33141386855874, 121.11430523944564, 114.29723186083395, 107.85882207176793, 101.7787459613019, 96.0376763443692, 90.61725010390957, 85.50002963466419, 80.66946473988354, 76.10985436789294, 71.80631039305507, 67.7447207364214, 63.91171472655411, 60.29462818538399, 56.881470626003605, 53.66089265454788, 50.62215506133303, 47.75509872767576, 45.050115769540305, 42.498121841417074, 40.09052938839336, 37.8192223106093, 35.67653137515249, 33.65521104704514, 31.748417065926585, 29.94968538271656, 28.252911741398727, 26.652332399132316, 25.14250588552792, 23.718295433749645, 22.37485250312696, 21.107600968099465, 19.912222184304266, 18.78464084164589, 17.721011487903784, 16.71770581258036, 15.771300585390167, 14.878566228051545, 14.036455998307261, 13.242095769024885, 12.492774327434491, 11.785934252001917, 11.119163242057526, 10.49018592948054, 9.896856189490522, 9.337149818258228, 8.809157614448443, 8.31107888531684, 7.8412153174887465, 7.39796514997917, 6.979817692103348, 6.585348158737943, 6.213212784346412, 5.862144221808209, 5.530947196593596, 5.218494402184259, 4.9237226279505775, 4.645629120399602, 4.383268134442619, 4.135747689722287, 3.902226505214201, 3.681911114990438, 3.4740531404474684, 3.277946727647148, 3.092926121462474, 2.918363382048583, 2.753666226647592, 2.5982760105638545, 2.4516657980739254, 2.3133385684250776, 2.1828255042802023, 2.059684391264388, 1.9434981020271267, 1.8338731669746111, 1.7304384339367205, 1.6328437910433355, 1.54075897799166, 1.4538724496141933, 1.3718903185942775, 1.2945353469370167, 1.2215460025620413, 1.1526755668269626, 1.087691291964298, 1.0263736105188057, 0.9685153778993401, 0.9139211795248372, 0.8624066607818361, 0.8137978930258314, 0.7679307937044654, 0.724650557886709, 0.6838111342512617, 0.6452747358972355, 0.6089113608957093, 0.574598359166287, 0.5422200148749803, 0.5116671485926106, 0.48283675434406814, 0.45563164445205095, 0.4299601203702659, 0.4057356674313851, 0.3828766543775054, 0.3613060612181225, 0.34095121861756994, 0.3217435580535986, 0.3036183845427921, 0.2865146545525808, 0.270374769016114, 0.25514438239526, 0.24077221450841477, 0.22720987932922182, 0.2144117222029256, 0.20233466283132223, 0.1909380527333344, 0.18018353635812714, 0.17003492082881608, 0.16045805630227836, 0.15142071812295554, 0.14289249901912304, 0.1348447073542315, 0.1272502683941506, 0.12008363504385133, 0.11332070052238245, 0.10693871582883471, 0.10091621602841694, 0.09523294642739571, 0.08986979308077525, 0.0848087204483505, 0.08003270950522369, 0.07552569949762863, 0.0712725359539864, 0.06725891846107564, 0.06347135173255876, 0.059897101847589104, 0.056524152439534445, 0.053341163683367984, 0.05033743539025545, 0.04750287016810034, 0.044827938977254796, 0.04230365038483161, 0.03992151949078592, 0.03767353902620649, 0.03555215331149373, 0.0335502322323244, 0.03166104699318387, 0.029878248390654276, 0.028195844729576362, 0.026608181371301193, 0.02510992271079454, 0.023696033817741134, 0.022361763014649958, 0.021102626453193024, 0.01991439299772912, 0.0187930694768623, 0.0177348876793778, 0.016736292018004917, 0.015793926832540963, 0.014904625415273256, 0.014065399749639966, 0.013273429887972301, 0.012526054611581922]}, {\"name\": \"Infected\", \"type\": \"scatter\", \"x\": [\"2020-03-02\", \"2020-03-03\", \"2020-03-04\", \"2020-03-05\", \"2020-03-06\", \"2020-03-07\", \"2020-03-08\", \"2020-03-09\", \"2020-03-10\", \"2020-03-11\", \"2020-03-12\", \"2020-03-13\", \"2020-03-14\", \"2020-03-15\", \"2020-03-16\", \"2020-03-17\", \"2020-03-18\", \"2020-03-19\", \"2020-03-20\", \"2020-03-21\", \"2020-03-22\", \"2020-03-23\", \"2020-03-24\", \"2020-03-25\", \"2020-03-26\", \"2020-03-27\", \"2020-03-28\", \"2020-03-29\", \"2020-03-30\", \"2020-03-31\", \"2020-04-01\", \"2020-04-02\", \"2020-04-03\", \"2020-04-04\", \"2020-04-05\", \"2020-04-06\", \"2020-04-07\", \"2020-04-08\", \"2020-04-09\", \"2020-04-10\", \"2020-04-11\", \"2020-04-12\", \"2020-04-13\", \"2020-04-14\", \"2020-04-15\", \"2020-04-16\", \"2020-04-17\", \"2020-04-18\", \"2020-04-19\", \"2020-04-20\", \"2020-04-21\", \"2020-04-22\", \"2020-04-23\", \"2020-04-24\", \"2020-04-25\", \"2020-04-26\", \"2020-04-27\", \"2020-04-28\", \"2020-04-29\", \"2020-04-30\", \"2020-05-01\", \"2020-05-02\", \"2020-05-03\", \"2020-05-04\", \"2020-05-05\", \"2020-05-06\", \"2020-05-07\", \"2020-05-08\", \"2020-05-09\", \"2020-05-10\", \"2020-05-11\", \"2020-05-12\", \"2020-05-13\", \"2020-05-14\", \"2020-05-15\", \"2020-05-16\", \"2020-05-17\", \"2020-05-18\", \"2020-05-19\", \"2020-05-20\", \"2020-05-21\", \"2020-05-22\", \"2020-05-23\", \"2020-05-24\", \"2020-05-25\", \"2020-05-26\", \"2020-05-27\", \"2020-05-28\", \"2020-05-29\", \"2020-05-30\", \"2020-05-31\", \"2020-06-01\", \"2020-06-02\", \"2020-06-03\", \"2020-06-04\", \"2020-06-05\", \"2020-06-06\", \"2020-06-07\", \"2020-06-08\", \"2020-06-09\", \"2020-06-10\", \"2020-06-11\", \"2020-06-12\", \"2020-06-13\", \"2020-06-14\", \"2020-06-15\", \"2020-06-16\", \"2020-06-17\", \"2020-06-18\", \"2020-06-19\", \"2020-06-20\", \"2020-06-21\", \"2020-06-22\", \"2020-06-23\", \"2020-06-24\", \"2020-06-25\", \"2020-06-26\", \"2020-06-27\", \"2020-06-28\", \"2020-06-29\", \"2020-06-30\", \"2020-07-01\", \"2020-07-02\", \"2020-07-03\", \"2020-07-04\", \"2020-07-05\", \"2020-07-06\", \"2020-07-07\", \"2020-07-08\", \"2020-07-09\", \"2020-07-10\", \"2020-07-11\", \"2020-07-12\", \"2020-07-13\", \"2020-07-14\", \"2020-07-15\", \"2020-07-16\", \"2020-07-17\", \"2020-07-18\", \"2020-07-19\", \"2020-07-20\", \"2020-07-21\", \"2020-07-22\", \"2020-07-23\", \"2020-07-24\", \"2020-07-25\", \"2020-07-26\", \"2020-07-27\", \"2020-07-28\", \"2020-07-29\", \"2020-07-30\", \"2020-07-31\", \"2020-08-01\", \"2020-08-02\", \"2020-08-03\", \"2020-08-04\", \"2020-08-05\", \"2020-08-06\", \"2020-08-07\", \"2020-08-08\", \"2020-08-09\", \"2020-08-10\", \"2020-08-11\", \"2020-08-12\", \"2020-08-13\", \"2020-08-14\", \"2020-08-15\", \"2020-08-16\", \"2020-08-17\", \"2020-08-18\", \"2020-08-19\", \"2020-08-20\", \"2020-08-21\", \"2020-08-22\", \"2020-08-23\", \"2020-08-24\", \"2020-08-25\", \"2020-08-26\", \"2020-08-27\", \"2020-08-28\", \"2020-08-29\", \"2020-08-30\", \"2020-08-31\", \"2020-09-01\", \"2020-09-02\", \"2020-09-03\", \"2020-09-04\", \"2020-09-05\", \"2020-09-06\", \"2020-09-07\", \"2020-09-08\", \"2020-09-09\", \"2020-09-10\", \"2020-09-11\", \"2020-09-12\", \"2020-09-13\", \"2020-09-14\", \"2020-09-15\", \"2020-09-16\", \"2020-09-17\", \"2020-09-18\", \"2020-09-19\", \"2020-09-20\", \"2020-09-21\", \"2020-09-22\", \"2020-09-23\", \"2020-09-24\", \"2020-09-25\", \"2020-09-26\", \"2020-09-27\", \"2020-09-28\", \"2020-09-29\", \"2020-09-30\", \"2020-10-01\", \"2020-10-02\", \"2020-10-03\", \"2020-10-04\", \"2020-10-05\", \"2020-10-06\", \"2020-10-07\", \"2020-10-08\", \"2020-10-09\", \"2020-10-10\", \"2020-10-11\", \"2020-10-12\", \"2020-10-13\", \"2020-10-14\", \"2020-10-15\", \"2020-10-16\", \"2020-10-17\", \"2020-10-18\", \"2020-10-19\", \"2020-10-20\", \"2020-10-21\", \"2020-10-22\", \"2020-10-23\", \"2020-10-24\", \"2020-10-25\", \"2020-10-26\", \"2020-10-27\", \"2020-10-28\", \"2020-10-29\", \"2020-10-30\", \"2020-10-31\", \"2020-11-01\", \"2020-11-02\", \"2020-11-03\", \"2020-11-04\", \"2020-11-05\", \"2020-11-06\", \"2020-11-07\", \"2020-11-08\", \"2020-11-09\", \"2020-11-10\", \"2020-11-11\", \"2020-11-12\", \"2020-11-13\", \"2020-11-14\", \"2020-11-15\", \"2020-11-16\", \"2020-11-17\", \"2020-11-18\", \"2020-11-19\", \"2020-11-20\", \"2020-11-21\", \"2020-11-22\", \"2020-11-23\", \"2020-11-24\", \"2020-11-25\", \"2020-11-26\", \"2020-11-27\", \"2020-11-28\", \"2020-11-29\", \"2020-11-30\", \"2020-12-01\", \"2020-12-02\", \"2020-12-03\", \"2020-12-04\", \"2020-12-05\", \"2020-12-06\", \"2020-12-07\", \"2020-12-08\", \"2020-12-09\", \"2020-12-10\", \"2020-12-11\", \"2020-12-12\", \"2020-12-13\", \"2020-12-14\", \"2020-12-15\", \"2020-12-16\", \"2020-12-17\", \"2020-12-18\", \"2020-12-19\", \"2020-12-20\", \"2020-12-21\", \"2020-12-22\", \"2020-12-23\", \"2020-12-24\", \"2020-12-25\", \"2020-12-26\", \"2020-12-27\", \"2020-12-28\", \"2020-12-29\"], \"y\": [2.0, 2.024369836763212, 2.159041938167623, 2.3939407764256195, 2.7258063788710336, 3.1568052919377383, 3.693634350522939, 4.346978250258098, 5.1312236993613505, 6.064361083508074, 7.168024513970419, 8.467634334929443, 9.992615749173765, 11.776672590740656, 13.858099447589503, 16.280116765385138, 19.091215180636357, 22.345494553482332, 26.102983203669442, 30.42992184190096, 35.39899524158212, 41.08949400124533, 47.587387859085844, 54.98529099859166, 63.382299915096084, 72.88368459571318, 83.60041507885956, 95.64850537423636, 109.1481651043677, 124.22274455614564, 140.99746900137313, 159.59796385839672, 180.1485738416657, 202.7704910462296, 227.57971050864626, 254.684841034575, 284.18480541455153, 316.16647130975355, 350.7022598788287, 387.84778456101736, 427.6395760418267, 470.09295074388035, 515.2000818251321, 562.9283290308935, 613.2188796227407, 665.9857492663785, 721.1151831022038, 778.4654876689414, 837.8673157074372, 899.1244143307835, 962.0148356775746, 1026.292597256625, 1091.6897682460276, 1157.9189471204793, 1224.6760861024882, 1291.6436103245628, 1358.4937716678064, 1424.8921748629307, 1490.5014127055074, 1554.9847285567994, 1618.009654434985, 1679.251551666904, 1738.396999648446, 1795.14697183744, 1849.2197534027966, 1900.3535568885502, 1948.308813135197, 1992.8701001132554, 2033.8476968080631, 2071.0787632160977, 2104.4281414931415, 2133.7887803352437, 2159.081798327968, 2180.2562190951235, 2197.288381938469, 2210.1810632962665, 2218.962362579854, 2223.684341809153, 2224.421489818453, 2221.2690310664925, 2214.3411143989797, 2203.7689192907283, 2189.69870293652, 2172.289825695205, 2151.7127826816, 2128.1472391845255, 2101.7801636956747, 2072.8039793600237, 2041.4148248442486, 2007.8109139309581, 1972.1909886546764, 1934.7529044760872, 1895.6923290807913, 1855.2015644361884, 1813.4685019118317, 1770.6756969244936, 1726.9995700094507, 1682.6097271753592, 1637.6683941839178, 1592.3299642162106, 1546.7406431797633, 1501.0381957529873, 1455.3517814862348, 1409.8018658215096, 1364.5002130358826, 1319.5499429879626, 1275.0456419673626, 1231.0735337760404, 1187.7116904615482, 1145.030279216477, 1103.0918463941475, 1061.9516287275756, 1021.6578739625744, 982.2521916385059, 943.7699000443724, 906.240398536963, 869.6875211849261, 834.1299100732302, 799.5813724636957, 766.0512376996048, 733.5447080730906, 702.0631936484227, 671.6046452628275, 642.1638658166287, 613.7328164259134, 586.3009032422341, 559.8552524296597, 534.3809700387126, 509.8613860347148, 486.27828459330414, 463.6121187672558, 441.84220925403804, 420.9469339739967, 400.90389686138667, 381.6900885354858, 363.2820300159399, 345.65590693007096, 328.78768976755725, 312.6532454483591, 297.2284357679701, 282.4892059939704, 268.4116650120124, 254.9721564523369, 242.14732077195853, 229.91415021570413, 218.25003629962163, 207.13281048959084, 196.54077925480274, 186.45275342746845, 176.8480719549746, 167.70662126631885, 159.0088504647973, 150.73578210199491, 142.8690202434425, 135.39075464006527, 128.28376280977344, 121.53140852722677, 115.11763921193668, 109.02698058966473, 103.24453014013648, 97.75594855289852, 92.5474501544188, 87.60579227616847, 82.9182633972322, 78.47267095229245, 74.25732796639684, 70.2610397711121, 66.4730895949248, 62.88322482614582, 59.48164208348892, 56.258972679877296, 53.206268321629295, 50.3149860497724, 47.57697423503035, 44.984457837292, 42.53002431018999, 40.206609818440505, 38.00748520282026, 35.92624289982126, 33.956783563883945, 32.09330335657066, 30.330281561134264, 28.66246825238201, 27.084872775802115, 25.592752190415773, 24.1816003164908, 22.847137124332082, 21.585298298876815, 20.392225401112878, 19.264256415982597, 18.197916477305025, 17.18990895854245, 16.237107066041723, 15.33654570261799, 14.485413629018101, 13.68104599569445, 12.92091715605956, 12.20263379428579, 11.523928400928016, 10.882653003440671, 10.276773146780785, 9.704362186074567, 9.163595837969714, 8.652746969777297, 8.170180643050392, 7.714349384838911, 7.283788674326991, 6.877112662390381, 6.493010093241338, 6.1302404134398065, 5.787630087356946, 5.4640690802766585, 5.158507521155467, 4.869952527629281, 4.5974651998411264, 4.3401577591959, 4.097190828865253, 3.867770856711668, 3.651147665794078, 3.446612140076851, 3.253494015101882, 3.0711597970123563, 2.899010779037, 2.7364811664370587, 2.583036296942431, 2.4381709559565823, 2.301407783911331, 2.1722957520012622, 2.0504087445359724, 1.9353441972304852, 1.8267218054285865, 1.7241823213149237, 1.6273863905085342, 1.536013465876968, 1.4497607868756464, 1.3683423887109327, 1.2914881894305745, 1.2189431146752918, 1.1504662650851751, 1.085830147069606, 1.0248199245486707, 0.9672327207701299, 0.9128769655949741, 0.8615717603387619, 0.8131462933249186, 0.767439281482488, 0.7242984365248365, 0.6835799750460149, 0.6451481413698572, 0.6088747609618134, 0.5746388246195577, 0.5423260838486951, 0.5118286784734066, 0.4830447827344774, 0.45587826427146966, 0.43023837259769065, 0.4060394366274541, 0.3832005802038037, 0.36164545851136237, 0.341302001077003, 0.3221021750863775, 0.30398176208424693, 0.2868801409538604, 0.27074009053113873, 0.25550759770956477, 0.2411316758941614, 0.22756420098282584, 0.21475974859056668, 0.20267544059834114, 0.19127080716571107, 0.18050764969851468, 0.17034991186880483, 0.16076356330504538, 0.15171648406665925, 0.14317835610626145, 0.1351205657296635, 0.12751610612726044, 0.12033948608944976, 0.11356664786888238, 0.10717488516743612, 0.1011427664308647, 0.09545006551584188, 0.09007769262571858, 0.08500762978553159, 0.08022287295322557, 0.07570737367936399, 0.07144598490198542, 0.0674244120903711, 0.06362916407605976, 0.06004750733952424, 0.05666742526437852, 0.0534775770563256, 0.050467258733431684, 0.047626368766530314, 0.0449453742729404, 0.042415277801713794, 0.04002758806147199, 0.037774291971162666, 0.035647826529023784, 0.03364105402465673, 0.03174723906529298, 0.029960024579385867, 0.02827341088787678]}, {\"name\": \"Recovered\", \"type\": \"scatter\", \"x\": [\"2020-03-02\", \"2020-03-03\", \"2020-03-04\", \"2020-03-05\", \"2020-03-06\", \"2020-03-07\", \"2020-03-08\", \"2020-03-09\", \"2020-03-10\", \"2020-03-11\", \"2020-03-12\", \"2020-03-13\", \"2020-03-14\", \"2020-03-15\", \"2020-03-16\", \"2020-03-17\", \"2020-03-18\", \"2020-03-19\", \"2020-03-20\", \"2020-03-21\", \"2020-03-22\", \"2020-03-23\", \"2020-03-24\", \"2020-03-25\", \"2020-03-26\", \"2020-03-27\", \"2020-03-28\", \"2020-03-29\", \"2020-03-30\", \"2020-03-31\", \"2020-04-01\", \"2020-04-02\", \"2020-04-03\", \"2020-04-04\", \"2020-04-05\", \"2020-04-06\", \"2020-04-07\", \"2020-04-08\", \"2020-04-09\", \"2020-04-10\", \"2020-04-11\", \"2020-04-12\", \"2020-04-13\", \"2020-04-14\", \"2020-04-15\", \"2020-04-16\", \"2020-04-17\", \"2020-04-18\", \"2020-04-19\", \"2020-04-20\", \"2020-04-21\", \"2020-04-22\", \"2020-04-23\", \"2020-04-24\", \"2020-04-25\", \"2020-04-26\", \"2020-04-27\", \"2020-04-28\", \"2020-04-29\", \"2020-04-30\", \"2020-05-01\", \"2020-05-02\", \"2020-05-03\", \"2020-05-04\", \"2020-05-05\", \"2020-05-06\", \"2020-05-07\", \"2020-05-08\", \"2020-05-09\", \"2020-05-10\", \"2020-05-11\", \"2020-05-12\", \"2020-05-13\", \"2020-05-14\", \"2020-05-15\", \"2020-05-16\", \"2020-05-17\", \"2020-05-18\", \"2020-05-19\", \"2020-05-20\", \"2020-05-21\", \"2020-05-22\", \"2020-05-23\", \"2020-05-24\", \"2020-05-25\", \"2020-05-26\", \"2020-05-27\", \"2020-05-28\", \"2020-05-29\", \"2020-05-30\", \"2020-05-31\", \"2020-06-01\", \"2020-06-02\", \"2020-06-03\", \"2020-06-04\", \"2020-06-05\", \"2020-06-06\", \"2020-06-07\", \"2020-06-08\", \"2020-06-09\", \"2020-06-10\", \"2020-06-11\", \"2020-06-12\", \"2020-06-13\", \"2020-06-14\", \"2020-06-15\", \"2020-06-16\", \"2020-06-17\", \"2020-06-18\", \"2020-06-19\", \"2020-06-20\", \"2020-06-21\", \"2020-06-22\", \"2020-06-23\", \"2020-06-24\", \"2020-06-25\", \"2020-06-26\", \"2020-06-27\", \"2020-06-28\", \"2020-06-29\", \"2020-06-30\", \"2020-07-01\", \"2020-07-02\", \"2020-07-03\", \"2020-07-04\", \"2020-07-05\", \"2020-07-06\", \"2020-07-07\", \"2020-07-08\", \"2020-07-09\", \"2020-07-10\", \"2020-07-11\", \"2020-07-12\", \"2020-07-13\", \"2020-07-14\", \"2020-07-15\", \"2020-07-16\", \"2020-07-17\", \"2020-07-18\", \"2020-07-19\", \"2020-07-20\", \"2020-07-21\", \"2020-07-22\", \"2020-07-23\", \"2020-07-24\", \"2020-07-25\", \"2020-07-26\", \"2020-07-27\", \"2020-07-28\", \"2020-07-29\", \"2020-07-30\", \"2020-07-31\", \"2020-08-01\", \"2020-08-02\", \"2020-08-03\", \"2020-08-04\", \"2020-08-05\", \"2020-08-06\", \"2020-08-07\", \"2020-08-08\", \"2020-08-09\", \"2020-08-10\", \"2020-08-11\", \"2020-08-12\", \"2020-08-13\", \"2020-08-14\", \"2020-08-15\", \"2020-08-16\", \"2020-08-17\", \"2020-08-18\", \"2020-08-19\", \"2020-08-20\", \"2020-08-21\", \"2020-08-22\", \"2020-08-23\", \"2020-08-24\", \"2020-08-25\", \"2020-08-26\", \"2020-08-27\", \"2020-08-28\", \"2020-08-29\", \"2020-08-30\", \"2020-08-31\", \"2020-09-01\", \"2020-09-02\", \"2020-09-03\", \"2020-09-04\", \"2020-09-05\", \"2020-09-06\", \"2020-09-07\", \"2020-09-08\", \"2020-09-09\", \"2020-09-10\", \"2020-09-11\", \"2020-09-12\", \"2020-09-13\", \"2020-09-14\", \"2020-09-15\", \"2020-09-16\", \"2020-09-17\", \"2020-09-18\", \"2020-09-19\", \"2020-09-20\", \"2020-09-21\", \"2020-09-22\", \"2020-09-23\", \"2020-09-24\", \"2020-09-25\", \"2020-09-26\", \"2020-09-27\", \"2020-09-28\", \"2020-09-29\", \"2020-09-30\", \"2020-10-01\", \"2020-10-02\", \"2020-10-03\", \"2020-10-04\", \"2020-10-05\", \"2020-10-06\", \"2020-10-07\", \"2020-10-08\", \"2020-10-09\", \"2020-10-10\", \"2020-10-11\", \"2020-10-12\", \"2020-10-13\", \"2020-10-14\", \"2020-10-15\", \"2020-10-16\", \"2020-10-17\", \"2020-10-18\", \"2020-10-19\", \"2020-10-20\", \"2020-10-21\", \"2020-10-22\", \"2020-10-23\", \"2020-10-24\", \"2020-10-25\", \"2020-10-26\", \"2020-10-27\", \"2020-10-28\", \"2020-10-29\", \"2020-10-30\", \"2020-10-31\", \"2020-11-01\", \"2020-11-02\", \"2020-11-03\", \"2020-11-04\", \"2020-11-05\", \"2020-11-06\", \"2020-11-07\", \"2020-11-08\", \"2020-11-09\", \"2020-11-10\", \"2020-11-11\", \"2020-11-12\", \"2020-11-13\", \"2020-11-14\", \"2020-11-15\", \"2020-11-16\", \"2020-11-17\", \"2020-11-18\", \"2020-11-19\", \"2020-11-20\", \"2020-11-21\", \"2020-11-22\", \"2020-11-23\", \"2020-11-24\", \"2020-11-25\", \"2020-11-26\", \"2020-11-27\", \"2020-11-28\", \"2020-11-29\", \"2020-11-30\", \"2020-12-01\", \"2020-12-02\", \"2020-12-03\", \"2020-12-04\", \"2020-12-05\", \"2020-12-06\", \"2020-12-07\", \"2020-12-08\", \"2020-12-09\", \"2020-12-10\", \"2020-12-11\", \"2020-12-12\", \"2020-12-13\", \"2020-12-14\", \"2020-12-15\", \"2020-12-16\", \"2020-12-17\", \"2020-12-18\", \"2020-12-19\", \"2020-12-20\", \"2020-12-21\", \"2020-12-22\", \"2020-12-23\", \"2020-12-24\", \"2020-12-25\", \"2020-12-26\", \"2020-12-27\", \"2020-12-28\", \"2020-12-29\"], \"y\": [0.0, 0.16036507488765117, 0.3271927042754744, 0.5088618977377797, 0.7132289246440842, 0.9481137131855087, 1.2216957671927604, 1.5428532853236783, 1.921469638971815, 2.3687248580651357, 2.8973850394144898, 3.522099308125056, 4.259711356698595, 5.129590852567931, 6.153988380931055, 7.358416446764298, 8.772057734891776, 10.428200856423377, 12.36470253604636, 14.62447408541963, 17.25598863245889, 20.313804197207496, 23.85909633956466, 27.960192474246064, 32.69309843130033, 38.14200629091591, 44.39977123771852, 51.568342425475805, 59.75913483276361, 69.09332438562532, 79.70205015180206, 91.72650673473983, 105.31791047712181, 120.63732313385108, 137.85531847247063, 157.1514793988724, 178.71371486765025, 202.73738954755657, 229.42426260161068, 258.9812358026978, 291.61891545028686, 327.54999766079317, 366.9874905838272, 410.14279214055455, 457.22364598236607, 508.43200279077865, 563.9618174378788, 623.9968153027849, 688.7082629805967, 758.2527803603268, 832.7702313283509, 912.381729447023, 997.1877937774007, 1087.2666878801756, 1182.6729713839843, 1283.4362899584041, 1389.5604250865686, 1501.0226194734237, 1617.7731885490696, 1739.7354280819118, 1866.8058109336466, 1998.8544739496504, 2135.725981300197, 2277.2403518029305, 2423.1943310254624, 2573.3628830257644, 2727.500881875772, 2885.344970308189, 3046.6155607304468, 3211.0189386546276, 3378.2494512468575, 3547.9917471164285, 3719.9230313917096, 3893.7153080889343, 4069.0375990956886, 4245.558101123988, 4422.94624763852, 4600.874695890335, 4779.02118159154, 4957.070247355294, 5134.714833555912, 5311.657716202972, 5487.612794664397, 5662.306219679227, 5835.4773636383115, 6006.879634477319, 6176.281133387327, 6343.46516576643, 6508.230607007157, 6670.39213671654, 6829.780338761683, 6986.241686662426, 7139.638422986624, 7289.848331068282, 7436.764426125873, 7580.2945650255715, 7720.360981150236, 7856.899770728779, 7989.860321722396, 8119.20470055066, 8244.907015869234, 8366.952748412998, 8485.338066450917, 8600.069137332306, 8711.161426446617, 8818.63900241602, 8922.53385190544, 9022.885199388089, 9119.73884663636, 9213.146530935659, 9303.165301766872, 9389.856921279417, 9473.28729483223, 9553.525923100136, 9630.645386047587, 9704.720851026777, 9775.8296160624, 9844.050676801075, 9909.46432641922, 9972.151781875893, 10032.194840050617, 10089.675559906518, 10144.675973326164, 10197.27781927758, 10247.562305172176, 10295.609890377216, 10341.500092291642, 10385.311315633056, 10427.120698302198, 10467.003981350912, 10505.035391299563, 10541.287541942387, 10575.83135326184, 10608.73598007782, 10640.068759044438, 10669.89516364048, 10698.278773260412, 10725.281250676297, 10750.962329079186, 10775.379807737507, 10798.589556060208, 10820.64552284844, 10841.599752477723, 10861.502406126743, 10880.401787944551, 10898.344374990553, 10915.374851277309, 10931.53614411741, 10946.869463359424, 10961.414342910128, 10975.208683775922, 10988.288798341664, 11000.689456515835, 11012.443931265974, 11023.5840459482, 11034.140220664036, 11044.14152009001, 11053.615699725087, 11062.589252790802, 11071.08745600435, 11079.134415241468, 11086.753110229261, 11093.965438370731, 11100.792257969433, 11107.25343001749, 11113.367859494625, 11119.15353504186, 11124.627568180485, 11129.806230570945, 11134.70499096922, 11139.338550602452, 11143.720877140191, 11147.865238109793, 11151.784232434227, 11155.489821448678, 11158.993358444413, 11162.305617014634, 11165.436818633438, 11168.396658723435, 11171.194332010487, 11173.83855665086, 11176.337597353875, 11178.699287680607, 11180.93105115072, 11183.039921603675, 11185.032562573273, 11186.91528580509, 11188.69406900618, 11190.374572699784, 11191.962156280786, 11193.461893410044, 11194.878586680457, 11196.216781518613, 11197.480779450754, 11198.674650747533, 11199.802246434248, 11200.867209739166, 11201.87298697829, 11202.822837859096, 11203.719845306407, 11204.566924810504, 11205.366833286183, 11206.12217747536, 11206.83542194513, 11207.508896658626, 11208.144804173207, 11208.74522646635, 11209.31213140332, 11209.847378869395, 11210.352726599558, 11210.829835670127, 11211.280275744753, 11211.705530011992, 11212.106999888609, 11212.486009450502, 11212.843809642593, 11213.181582268184, 11213.500443754108, 11213.801448733031, 11214.085593408614, 11214.353818770474, 11214.60701360796, 11214.84601738394, 11215.071622940895, 11215.284579066229, 11215.485592918398, 11215.6753323141, 11215.854427918526, 11216.023475269789, 11216.183036728538, 11216.333643325806, 11216.475796472481, 11216.60996962094, 11216.736609809277, 11216.856139108964, 11216.968956035218, 11217.075436837378, 11217.17593673854, 11217.270791115412, 11217.360316583472, 11217.444812054915, 11217.524559723464, 11217.599825982468, 11217.670862321886, 11217.737906149176, 11217.80118157425, 11217.860900160607, 11217.91726161253, 11217.97045444524, 11218.020656611207, 11218.068036081508, 11218.112751413924, 11218.15495227378, 11218.194779929003, 11218.232367727353, 11218.267841531444, 11218.301320141625, 11218.332915693341, 11218.36273402427, 11218.390875033461, 11218.417433011375, 11218.442496951264, 11218.466150851695, 11218.488473991145, 11218.509541195486, 11218.529423090991, 11218.548186332044, 11218.565893827807, 11218.582604955787, 11218.598375753747, 11218.613259110241, 11218.627304943982, 11218.640560365035, 11218.653069835522, 11218.664875320454, 11218.676016423084, 11218.686530520232, 11218.696452889024, 11218.705816820899, 11218.714653735473, 11218.722993286996, 11218.730863460218, 11218.7382906663, 11218.745299832312, 11218.751914481614, 11218.758156814682, 11218.764047784232, 11218.769607162842, 11218.774853611192, 11218.779804741444, 11218.784477173529, 11218.788886592083, 11218.7930478005, 11218.796974768606, 11218.800680679531, 11218.804177975644, 11218.807478399041, 11218.810593030139, 11218.813532326778, 11218.816306158473, 11218.81892383825, 11218.821394155802, 11218.823725406482]}, {\"name\": \"Death\", \"type\": \"scatter\", \"x\": [\"2020-03-02\", \"2020-03-03\", \"2020-03-04\", \"2020-03-05\", \"2020-03-06\", \"2020-03-07\", \"2020-03-08\", \"2020-03-09\", \"2020-03-10\", \"2020-03-11\", \"2020-03-12\", \"2020-03-13\", \"2020-03-14\", \"2020-03-15\", \"2020-03-16\", \"2020-03-17\", \"2020-03-18\", \"2020-03-19\", \"2020-03-20\", \"2020-03-21\", \"2020-03-22\", \"2020-03-23\", \"2020-03-24\", \"2020-03-25\", \"2020-03-26\", \"2020-03-27\", \"2020-03-28\", \"2020-03-29\", \"2020-03-30\", \"2020-03-31\", \"2020-04-01\", \"2020-04-02\", \"2020-04-03\", \"2020-04-04\", \"2020-04-05\", \"2020-04-06\", \"2020-04-07\", \"2020-04-08\", \"2020-04-09\", \"2020-04-10\", \"2020-04-11\", \"2020-04-12\", \"2020-04-13\", \"2020-04-14\", \"2020-04-15\", \"2020-04-16\", \"2020-04-17\", \"2020-04-18\", \"2020-04-19\", \"2020-04-20\", \"2020-04-21\", \"2020-04-22\", \"2020-04-23\", \"2020-04-24\", \"2020-04-25\", \"2020-04-26\", \"2020-04-27\", \"2020-04-28\", \"2020-04-29\", \"2020-04-30\", \"2020-05-01\", \"2020-05-02\", \"2020-05-03\", \"2020-05-04\", \"2020-05-05\", \"2020-05-06\", \"2020-05-07\", \"2020-05-08\", \"2020-05-09\", \"2020-05-10\", \"2020-05-11\", \"2020-05-12\", \"2020-05-13\", \"2020-05-14\", \"2020-05-15\", \"2020-05-16\", \"2020-05-17\", \"2020-05-18\", \"2020-05-19\", \"2020-05-20\", \"2020-05-21\", \"2020-05-22\", \"2020-05-23\", \"2020-05-24\", \"2020-05-25\", \"2020-05-26\", \"2020-05-27\", \"2020-05-28\", \"2020-05-29\", \"2020-05-30\", \"2020-05-31\", \"2020-06-01\", \"2020-06-02\", \"2020-06-03\", \"2020-06-04\", \"2020-06-05\", \"2020-06-06\", \"2020-06-07\", \"2020-06-08\", \"2020-06-09\", \"2020-06-10\", \"2020-06-11\", \"2020-06-12\", \"2020-06-13\", \"2020-06-14\", \"2020-06-15\", \"2020-06-16\", \"2020-06-17\", \"2020-06-18\", \"2020-06-19\", \"2020-06-20\", \"2020-06-21\", \"2020-06-22\", \"2020-06-23\", \"2020-06-24\", \"2020-06-25\", \"2020-06-26\", \"2020-06-27\", \"2020-06-28\", \"2020-06-29\", \"2020-06-30\", \"2020-07-01\", \"2020-07-02\", \"2020-07-03\", \"2020-07-04\", \"2020-07-05\", \"2020-07-06\", \"2020-07-07\", \"2020-07-08\", \"2020-07-09\", \"2020-07-10\", \"2020-07-11\", \"2020-07-12\", \"2020-07-13\", \"2020-07-14\", \"2020-07-15\", \"2020-07-16\", \"2020-07-17\", \"2020-07-18\", \"2020-07-19\", \"2020-07-20\", \"2020-07-21\", \"2020-07-22\", \"2020-07-23\", \"2020-07-24\", \"2020-07-25\", \"2020-07-26\", \"2020-07-27\", \"2020-07-28\", \"2020-07-29\", \"2020-07-30\", \"2020-07-31\", \"2020-08-01\", \"2020-08-02\", \"2020-08-03\", \"2020-08-04\", \"2020-08-05\", \"2020-08-06\", \"2020-08-07\", \"2020-08-08\", \"2020-08-09\", \"2020-08-10\", \"2020-08-11\", \"2020-08-12\", \"2020-08-13\", \"2020-08-14\", \"2020-08-15\", \"2020-08-16\", \"2020-08-17\", \"2020-08-18\", \"2020-08-19\", \"2020-08-20\", \"2020-08-21\", \"2020-08-22\", \"2020-08-23\", \"2020-08-24\", \"2020-08-25\", \"2020-08-26\", \"2020-08-27\", \"2020-08-28\", \"2020-08-29\", \"2020-08-30\", \"2020-08-31\", \"2020-09-01\", \"2020-09-02\", \"2020-09-03\", \"2020-09-04\", \"2020-09-05\", \"2020-09-06\", \"2020-09-07\", \"2020-09-08\", \"2020-09-09\", \"2020-09-10\", \"2020-09-11\", \"2020-09-12\", \"2020-09-13\", \"2020-09-14\", \"2020-09-15\", \"2020-09-16\", \"2020-09-17\", \"2020-09-18\", \"2020-09-19\", \"2020-09-20\", \"2020-09-21\", \"2020-09-22\", \"2020-09-23\", \"2020-09-24\", \"2020-09-25\", \"2020-09-26\", \"2020-09-27\", \"2020-09-28\", \"2020-09-29\", \"2020-09-30\", \"2020-10-01\", \"2020-10-02\", \"2020-10-03\", \"2020-10-04\", \"2020-10-05\", \"2020-10-06\", \"2020-10-07\", \"2020-10-08\", \"2020-10-09\", \"2020-10-10\", \"2020-10-11\", \"2020-10-12\", \"2020-10-13\", \"2020-10-14\", \"2020-10-15\", \"2020-10-16\", \"2020-10-17\", \"2020-10-18\", \"2020-10-19\", \"2020-10-20\", \"2020-10-21\", \"2020-10-22\", \"2020-10-23\", \"2020-10-24\", \"2020-10-25\", \"2020-10-26\", \"2020-10-27\", \"2020-10-28\", \"2020-10-29\", \"2020-10-30\", \"2020-10-31\", \"2020-11-01\", \"2020-11-02\", \"2020-11-03\", \"2020-11-04\", \"2020-11-05\", \"2020-11-06\", \"2020-11-07\", \"2020-11-08\", \"2020-11-09\", \"2020-11-10\", \"2020-11-11\", \"2020-11-12\", \"2020-11-13\", \"2020-11-14\", \"2020-11-15\", \"2020-11-16\", \"2020-11-17\", \"2020-11-18\", \"2020-11-19\", \"2020-11-20\", \"2020-11-21\", \"2020-11-22\", \"2020-11-23\", \"2020-11-24\", \"2020-11-25\", \"2020-11-26\", \"2020-11-27\", \"2020-11-28\", \"2020-11-29\", \"2020-11-30\", \"2020-12-01\", \"2020-12-02\", \"2020-12-03\", \"2020-12-04\", \"2020-12-05\", \"2020-12-06\", \"2020-12-07\", \"2020-12-08\", \"2020-12-09\", \"2020-12-10\", \"2020-12-11\", \"2020-12-12\", \"2020-12-13\", \"2020-12-14\", \"2020-12-15\", \"2020-12-16\", \"2020-12-17\", \"2020-12-18\", \"2020-12-19\", \"2020-12-20\", \"2020-12-21\", \"2020-12-22\", \"2020-12-23\", \"2020-12-24\", \"2020-12-25\", \"2020-12-26\", \"2020-12-27\", \"2020-12-28\", \"2020-12-29\"], \"y\": [0.0, 0.01909108034376799, 0.038951512413746954, 0.06057879734973567, 0.08490820531477193, 0.11287068014113198, 0.1454399722848524, 0.1836730101575807, 0.22874638559188273, 0.28199105453156376, 0.34492679040648694, 0.41929753668155434, 0.5071084948450709, 0.6106655776866585, 0.7326176643965541, 0.8760019579481306, 1.044292587487116, 1.2414524829075448, 1.471988397148376, 1.7410088196928128, 2.054284361007011, 2.418310023477083, 2.840368611852936, 3.328594342172151, 3.8920355275357537, 4.540715034632846, 5.285687052109348, 6.139088383985216, 7.114182718186143, 8.225395760193493, 9.488339303785962, 10.919822230326172, 12.537846485371645, 14.361586087363225, 16.411347437198884, 18.708509452246712, 21.275442246148838, 24.135403517566257, 27.31241221447746, 30.83109950032117, 34.716537553605576, 38.99404734057061, 43.68898697426514, 48.82652287387554, 54.431386426472145, 60.52761937985459, 67.13831159974747, 74.28533515509343, 81.9890789262615, 90.26818813813414, 99.1393132533751, 108.61687255321701, 118.71283259254767, 129.43651046192565, 140.7944013552362, 152.7900345188576, 165.42386012935333, 178.69316898493136, 192.59204625584158, 207.11136048594184, 222.23878701591028, 237.95886594638696, 254.25309301192817, 271.1000418813012, 288.4755155982693, 306.3527241697339, 324.70248593759186, 343.49344884621297, 362.6923286583865, 382.2641593636461, 402.17255371986386, 422.37996989481286, 442.84797992758445, 463.5375366772541, 484.40923798758195, 505.4235834671414, 526.5412199569665, 547.7231780821826, 568.9310930466117, 590.1274103994396, 611.2755754233227, 632.3402043098774, 653.2872374600471, 674.0840737713362, 694.6996861474178, 715.1047183901568, 735.271563498491, 755.1744244960033, 774.7893579770423, 794.0943019900641, 813.0690879478192, 831.6954388883839, 849.9569551174552, 867.8390870319382, 885.3290983483181, 902.4160196459013, 919.0905929940757, 935.345210801045, 951.1738478240948, 966.5719881607929, 981.5365495082419, 996.0658033824997, 1010.159293625109, 1023.817754444322, 1037.0430269579306, 1049.8379764780973, 1062.206410941124, 1074.1529999271536, 1085.6831960281386, 1096.8031584447217, 1107.5196787817708, 1117.8401096761215, 1127.7722970038371, 1137.3245146547786, 1146.5054031009035, 1155.3239108365212, 1163.7892400074286, 1171.9107948572707, 1179.6981340975262, 1187.1609264137967, 1194.3089095298353, 1201.1518523698237, 1207.6995206340669, 1213.961645152093, 1219.9478934728781, 1225.667844092526, 1231.1309633680528, 1236.3465851944115, 1241.3238926550237, 1246.0719025417754, 1250.5994513451863, 1254.91518356457, 1259.0275420549813, 1262.944759533074, 1266.6748522671953, 1270.2256147191051, 1273.6046158643348, 1276.8191965090832, 1279.8764677475224, 1282.7833104449417, 1285.5463757214536, 1288.1720860533858, 1290.6666371997292, 1293.0360007293743, 1295.2859271362563, 1297.4219494036374, 1299.4493870568228, 1301.3733504901681, 1303.198745638027, 1304.9302789178728, 1306.5724623542767, 1308.1296188501985, 1309.6058876804568, 1311.0052299126164, 1312.331434041453, 1313.5881215076236, 1314.7787523916681, 1315.9066309196535, 1316.9749110465243, 1317.9866019052802, 1318.9445732430322, 1319.8515607415793, 1320.7101712346114, 1321.5228878535045, 1322.2920750020826, 1323.0199832731703, 1323.7087541716508, 1324.3604247833919, 1324.9769322108277, 1325.5601179725272, 1326.1117322145785, 1326.6334377547857, 1327.1268140606905, 1327.5933610040754, 1328.034502553415, 1328.4515902910025, 1328.8459067874571, 1329.2186688849338, 1329.5710308004097, 1329.9040871441064, 1330.21887579177, 1330.516380637367, 1330.797534247692, 1331.0632203750863, 1331.3142763813908, 1331.551495544438, 1331.7756292625113, 1331.987389167403, 1332.1874491309275, 1332.3764471762847, 1332.5549873107202, 1332.723641271484, 1332.8829501807882, 1333.0334261250905, 1333.1755536604212, 1333.3097912421733, 1333.4365725879968, 1333.5563079736069, 1333.669385459417, 1333.7761720602873, 1333.8770148583944, 1333.97224205788, 1334.062163985163, 1334.147074041088, 1334.2272496022183, 1334.3029528777638, 1334.3744317221858, 1334.4419204051585, 1334.5056403415958, 1334.5658007856628, 1334.62259948454, 1334.6762233029483, 1334.7268488109526, 1334.7746428438832, 1334.8197630298228, 1334.8623582907862, 1334.9025693176422, 1334.9405290183474, 1334.9763629444099, 1335.010189691503, 1335.0421212822005, 1335.0722635247582, 1335.1007163552322, 1335.1275741596316, 1335.1529260793143, 1335.1768562998104, 1335.1994443231085, 1335.2207652283973, 1335.2408899130714, 1335.259885324827, 1335.2778146816452, 1335.2947376752968, 1335.310710669161, 1335.3257868820583, 1335.3400165605926, 1335.3534471470514, 1335.3661234330225, 1335.3780877069705, 1335.3893798946935, 1335.40003768851, 1335.4100966732058, 1335.419590443271, 1335.4285507122004, 1335.4370074192739, 1335.4449888272845, 1335.4525216159839, 1335.4596309715025, 1335.46634066816, 1335.4726731482447, 1335.4786495965739, 1335.4842900097049, 1335.489613263564, 1335.4946371754515, 1335.4993785629779, 1335.5038533008767, 1335.5080763727924, 1335.5120619216234, 1335.5158232968276, 1335.5193730981287, 1335.5227232182706, 1335.5258848823078, 1335.5288686846754, 1335.531684625203, 1335.5343421418042, 1335.536850142321, 1335.539217034643, 1335.541450753816, 1335.5435587890258, 1335.5455482090238, 1335.5474256849714, 1335.5491975131254, 1335.5508696361894, 1335.5524476625053, 1335.5539368851823, 1335.5553423000551, 1335.556668621797, 1335.5579203000289, 1335.5591015344087, 1335.5602162882035, 1335.5612683018433, 1335.562261105596, 1335.5631980309795, 1335.5640822221799, 1335.564916646705, 1335.5657041049556, 1335.5664472398444, 1335.5671485457435, 1335.5678103765304, 1335.5684349537148, 1335.5690243739828, 1335.5695806158976, 1335.570105546678, 1335.570600928632, 1335.5710684248352, 1335.5715096047072, 1335.5719259494826, 1335.57231885703, 1335.5726896464464, 1335.573039562713, 1335.5733697807718, 1335.5736814093166, 1335.5739754947394, 1335.5742530245825]}],\n",
              "                        {\"template\": {\"data\": {\"bar\": [{\"error_x\": {\"color\": \"#2a3f5f\"}, \"error_y\": {\"color\": \"#2a3f5f\"}, \"marker\": {\"line\": {\"color\": \"#E5ECF6\", \"width\": 0.5}}, \"type\": \"bar\"}], \"barpolar\": [{\"marker\": {\"line\": {\"color\": \"#E5ECF6\", \"width\": 0.5}}, \"type\": \"barpolar\"}], \"carpet\": [{\"aaxis\": {\"endlinecolor\": \"#2a3f5f\", \"gridcolor\": \"white\", \"linecolor\": \"white\", \"minorgridcolor\": \"white\", \"startlinecolor\": \"#2a3f5f\"}, \"baxis\": {\"endlinecolor\": \"#2a3f5f\", \"gridcolor\": \"white\", \"linecolor\": \"white\", \"minorgridcolor\": \"white\", \"startlinecolor\": \"#2a3f5f\"}, \"type\": \"carpet\"}], \"choropleth\": [{\"colorbar\": {\"outlinewidth\": 0, \"ticks\": \"\"}, \"type\": \"choropleth\"}], \"contour\": [{\"colorbar\": {\"outlinewidth\": 0, \"ticks\": \"\"}, \"colorscale\": [[0.0, \"#0d0887\"], [0.1111111111111111, \"#46039f\"], [0.2222222222222222, \"#7201a8\"], [0.3333333333333333, \"#9c179e\"], [0.4444444444444444, \"#bd3786\"], [0.5555555555555556, \"#d8576b\"], [0.6666666666666666, \"#ed7953\"], [0.7777777777777778, \"#fb9f3a\"], [0.8888888888888888, \"#fdca26\"], [1.0, \"#f0f921\"]], \"type\": \"contour\"}], \"contourcarpet\": [{\"colorbar\": {\"outlinewidth\": 0, \"ticks\": \"\"}, \"type\": \"contourcarpet\"}], \"heatmap\": [{\"colorbar\": {\"outlinewidth\": 0, \"ticks\": \"\"}, \"colorscale\": [[0.0, \"#0d0887\"], [0.1111111111111111, \"#46039f\"], [0.2222222222222222, \"#7201a8\"], [0.3333333333333333, \"#9c179e\"], [0.4444444444444444, \"#bd3786\"], [0.5555555555555556, \"#d8576b\"], [0.6666666666666666, \"#ed7953\"], [0.7777777777777778, \"#fb9f3a\"], [0.8888888888888888, \"#fdca26\"], [1.0, \"#f0f921\"]], \"type\": \"heatmap\"}], \"heatmapgl\": [{\"colorbar\": {\"outlinewidth\": 0, \"ticks\": \"\"}, \"colorscale\": [[0.0, \"#0d0887\"], [0.1111111111111111, \"#46039f\"], [0.2222222222222222, \"#7201a8\"], [0.3333333333333333, \"#9c179e\"], [0.4444444444444444, \"#bd3786\"], [0.5555555555555556, \"#d8576b\"], [0.6666666666666666, \"#ed7953\"], [0.7777777777777778, \"#fb9f3a\"], [0.8888888888888888, \"#fdca26\"], [1.0, \"#f0f921\"]], \"type\": \"heatmapgl\"}], \"histogram\": [{\"marker\": {\"colorbar\": {\"outlinewidth\": 0, \"ticks\": \"\"}}, \"type\": \"histogram\"}], \"histogram2d\": [{\"colorbar\": {\"outlinewidth\": 0, \"ticks\": \"\"}, \"colorscale\": [[0.0, \"#0d0887\"], [0.1111111111111111, \"#46039f\"], [0.2222222222222222, \"#7201a8\"], [0.3333333333333333, \"#9c179e\"], [0.4444444444444444, \"#bd3786\"], [0.5555555555555556, \"#d8576b\"], [0.6666666666666666, \"#ed7953\"], [0.7777777777777778, \"#fb9f3a\"], [0.8888888888888888, \"#fdca26\"], [1.0, \"#f0f921\"]], \"type\": \"histogram2d\"}], \"histogram2dcontour\": [{\"colorbar\": {\"outlinewidth\": 0, \"ticks\": \"\"}, \"colorscale\": [[0.0, \"#0d0887\"], [0.1111111111111111, \"#46039f\"], [0.2222222222222222, \"#7201a8\"], [0.3333333333333333, \"#9c179e\"], [0.4444444444444444, \"#bd3786\"], [0.5555555555555556, \"#d8576b\"], [0.6666666666666666, \"#ed7953\"], [0.7777777777777778, \"#fb9f3a\"], [0.8888888888888888, \"#fdca26\"], [1.0, \"#f0f921\"]], \"type\": \"histogram2dcontour\"}], \"mesh3d\": [{\"colorbar\": {\"outlinewidth\": 0, \"ticks\": \"\"}, \"type\": \"mesh3d\"}], \"parcoords\": [{\"line\": {\"colorbar\": {\"outlinewidth\": 0, \"ticks\": \"\"}}, \"type\": \"parcoords\"}], \"pie\": [{\"automargin\": true, \"type\": \"pie\"}], \"scatter\": [{\"marker\": {\"colorbar\": {\"outlinewidth\": 0, \"ticks\": \"\"}}, \"type\": \"scatter\"}], \"scatter3d\": [{\"line\": {\"colorbar\": {\"outlinewidth\": 0, \"ticks\": \"\"}}, \"marker\": {\"colorbar\": {\"outlinewidth\": 0, \"ticks\": \"\"}}, \"type\": \"scatter3d\"}], \"scattercarpet\": [{\"marker\": {\"colorbar\": {\"outlinewidth\": 0, \"ticks\": \"\"}}, \"type\": \"scattercarpet\"}], \"scattergeo\": [{\"marker\": {\"colorbar\": {\"outlinewidth\": 0, \"ticks\": \"\"}}, \"type\": \"scattergeo\"}], \"scattergl\": [{\"marker\": {\"colorbar\": {\"outlinewidth\": 0, \"ticks\": \"\"}}, \"type\": \"scattergl\"}], \"scattermapbox\": [{\"marker\": {\"colorbar\": {\"outlinewidth\": 0, \"ticks\": \"\"}}, \"type\": \"scattermapbox\"}], \"scatterpolar\": [{\"marker\": {\"colorbar\": {\"outlinewidth\": 0, \"ticks\": \"\"}}, \"type\": \"scatterpolar\"}], \"scatterpolargl\": [{\"marker\": {\"colorbar\": {\"outlinewidth\": 0, \"ticks\": \"\"}}, \"type\": \"scatterpolargl\"}], \"scatterternary\": [{\"marker\": {\"colorbar\": {\"outlinewidth\": 0, \"ticks\": \"\"}}, \"type\": \"scatterternary\"}], \"surface\": [{\"colorbar\": {\"outlinewidth\": 0, \"ticks\": \"\"}, \"colorscale\": [[0.0, \"#0d0887\"], [0.1111111111111111, \"#46039f\"], [0.2222222222222222, \"#7201a8\"], [0.3333333333333333, \"#9c179e\"], [0.4444444444444444, \"#bd3786\"], [0.5555555555555556, \"#d8576b\"], [0.6666666666666666, \"#ed7953\"], [0.7777777777777778, \"#fb9f3a\"], [0.8888888888888888, \"#fdca26\"], [1.0, \"#f0f921\"]], \"type\": \"surface\"}], \"table\": [{\"cells\": {\"fill\": {\"color\": \"#EBF0F8\"}, \"line\": {\"color\": \"white\"}}, \"header\": {\"fill\": {\"color\": \"#C8D4E3\"}, \"line\": {\"color\": \"white\"}}, \"type\": \"table\"}]}, \"layout\": {\"annotationdefaults\": {\"arrowcolor\": \"#2a3f5f\", \"arrowhead\": 0, \"arrowwidth\": 1}, \"coloraxis\": {\"colorbar\": {\"outlinewidth\": 0, \"ticks\": \"\"}}, \"colorscale\": {\"diverging\": [[0, \"#8e0152\"], [0.1, \"#c51b7d\"], [0.2, \"#de77ae\"], [0.3, \"#f1b6da\"], [0.4, \"#fde0ef\"], [0.5, \"#f7f7f7\"], [0.6, \"#e6f5d0\"], [0.7, \"#b8e186\"], [0.8, \"#7fbc41\"], [0.9, \"#4d9221\"], [1, \"#276419\"]], \"sequential\": [[0.0, \"#0d0887\"], [0.1111111111111111, \"#46039f\"], [0.2222222222222222, \"#7201a8\"], [0.3333333333333333, \"#9c179e\"], [0.4444444444444444, \"#bd3786\"], [0.5555555555555556, \"#d8576b\"], [0.6666666666666666, \"#ed7953\"], [0.7777777777777778, \"#fb9f3a\"], [0.8888888888888888, \"#fdca26\"], [1.0, \"#f0f921\"]], \"sequentialminus\": [[0.0, \"#0d0887\"], [0.1111111111111111, \"#46039f\"], [0.2222222222222222, \"#7201a8\"], [0.3333333333333333, \"#9c179e\"], [0.4444444444444444, \"#bd3786\"], [0.5555555555555556, \"#d8576b\"], [0.6666666666666666, \"#ed7953\"], [0.7777777777777778, \"#fb9f3a\"], [0.8888888888888888, \"#fdca26\"], [1.0, \"#f0f921\"]]}, \"colorway\": [\"#636efa\", \"#EF553B\", \"#00cc96\", \"#ab63fa\", \"#FFA15A\", \"#19d3f3\", \"#FF6692\", \"#B6E880\", \"#FF97FF\", \"#FECB52\"], \"font\": {\"color\": \"#2a3f5f\"}, \"geo\": {\"bgcolor\": \"white\", \"lakecolor\": \"white\", \"landcolor\": \"#E5ECF6\", \"showlakes\": true, \"showland\": true, \"subunitcolor\": \"white\"}, \"hoverlabel\": {\"align\": \"left\"}, \"hovermode\": \"closest\", \"mapbox\": {\"style\": \"light\"}, \"paper_bgcolor\": \"white\", \"plot_bgcolor\": \"#E5ECF6\", \"polar\": {\"angularaxis\": {\"gridcolor\": \"white\", \"linecolor\": \"white\", \"ticks\": \"\"}, \"bgcolor\": \"#E5ECF6\", \"radialaxis\": {\"gridcolor\": \"white\", \"linecolor\": \"white\", \"ticks\": \"\"}}, \"scene\": {\"xaxis\": {\"backgroundcolor\": \"#E5ECF6\", \"gridcolor\": \"white\", \"gridwidth\": 2, \"linecolor\": \"white\", \"showbackground\": true, \"ticks\": \"\", \"zerolinecolor\": \"white\"}, \"yaxis\": {\"backgroundcolor\": \"#E5ECF6\", \"gridcolor\": \"white\", \"gridwidth\": 2, \"linecolor\": \"white\", \"showbackground\": true, \"ticks\": \"\", \"zerolinecolor\": \"white\"}, \"zaxis\": {\"backgroundcolor\": \"#E5ECF6\", \"gridcolor\": \"white\", \"gridwidth\": 2, \"linecolor\": \"white\", \"showbackground\": true, \"ticks\": \"\", \"zerolinecolor\": \"white\"}}, \"shapedefaults\": {\"line\": {\"color\": \"#2a3f5f\"}}, \"ternary\": {\"aaxis\": {\"gridcolor\": \"white\", \"linecolor\": \"white\", \"ticks\": \"\"}, \"baxis\": {\"gridcolor\": \"white\", \"linecolor\": \"white\", \"ticks\": \"\"}, \"bgcolor\": \"#E5ECF6\", \"caxis\": {\"gridcolor\": \"white\", \"linecolor\": \"white\", \"ticks\": \"\"}}, \"title\": {\"x\": 0.05}, \"xaxis\": {\"automargin\": true, \"gridcolor\": \"white\", \"linecolor\": \"white\", \"ticks\": \"\", \"title\": {\"standoff\": 15}, \"zerolinecolor\": \"white\", \"zerolinewidth\": 2}, \"yaxis\": {\"automargin\": true, \"gridcolor\": \"white\", \"linecolor\": \"white\", \"ticks\": \"\", \"title\": {\"standoff\": 15}, \"zerolinecolor\": \"white\", \"zerolinewidth\": 2}}}, \"title\": {\"text\": \"SEIRD Model for Coronavirus in Indonesia\", \"x\": 0.5}, \"xaxis\": {\"title\": {\"text\": \"Date\"}}, \"yaxis\": {\"title\": {\"text\": \"Total Cases\"}}},\n",
              "                        {\"responsive\": true}\n",
              "                    ).then(function(){\n",
              "                            \n",
              "var gd = document.getElementById('7e5cb559-9a7b-4f03-a240-2d56d420f26c');\n",
              "var x = new MutationObserver(function (mutations, observer) {{\n",
              "        var display = window.getComputedStyle(gd).display;\n",
              "        if (!display || display === 'none') {{\n",
              "            console.log([gd, 'removed!']);\n",
              "            Plotly.purge(gd);\n",
              "            observer.disconnect();\n",
              "        }}\n",
              "}});\n",
              "\n",
              "// Listen for the removal of the full notebook cells\n",
              "var notebookContainer = gd.closest('#notebook-container');\n",
              "if (notebookContainer) {{\n",
              "    x.observe(notebookContainer, {childList: true});\n",
              "}}\n",
              "\n",
              "// Listen for the clearing of the current output cell\n",
              "var outputEl = gd.closest('.output');\n",
              "if (outputEl) {{\n",
              "    x.observe(outputEl, {childList: true});\n",
              "}}\n",
              "\n",
              "                        })\n",
              "                };\n",
              "                \n",
              "            </script>\n",
              "        </div>\n",
              "</body>\n",
              "</html>"
            ]
          },
          "metadata": {
            "tags": []
          }
        }
      ]
    },
    {
      "cell_type": "code",
      "metadata": {
        "id": "LIRIYJ8JmcNe",
        "colab_type": "code",
        "outputId": "60145e0e-3b3c-49fd-d29c-cb8ade8bd9f3",
        "colab": {
          "base_uri": "https://localhost:8080/",
          "height": 542
        }
      },
      "source": [
        "data = go.Scatter(\n",
        "    x=date_series[0:120],\n",
        "    y=I[::multiplier_or_skip],\n",
        "    name='Prediction of Total Infected',\n",
        "    line={\n",
        "        'dash':'dash'\n",
        "    }\n",
        ")\n",
        "\n",
        "real_data = go.Scatter(\n",
        "    x=date_series[0:120],\n",
        "    y=df['Kasus Baru'],\n",
        "    name='Total Infected from kawalcovid.id',\n",
        "    mode='markers',\n",
        "    marker={'symbol':'diamond'}\n",
        ")\n",
        "\n",
        "layout3 = {\n",
        "    'title':{\n",
        "        'text': 'SEIRD Model for Coronavirus in Indonesia',\n",
        "        'x':0.5, #range x axis 0 - 1\n",
        "    },\n",
        "    'xaxis':{\n",
        "        'title': 'Date',\n",
        "        \n",
        "    },\n",
        "    'yaxis':{\n",
        "        'title': 'Total Infected',\n",
        "        #'range': [-10, 3_000],\n",
        "    },\n",
        "}\n",
        "\n",
        "fig = go.Figure(data=[data, real_data], layout=layout3)\n",
        "fig.show()"
      ],
      "execution_count": 183,
      "outputs": [
        {
          "output_type": "display_data",
          "data": {
            "text/html": [
              "<html>\n",
              "<head><meta charset=\"utf-8\" /></head>\n",
              "<body>\n",
              "    <div>\n",
              "            <script src=\"https://cdnjs.cloudflare.com/ajax/libs/mathjax/2.7.5/MathJax.js?config=TeX-AMS-MML_SVG\"></script><script type=\"text/javascript\">if (window.MathJax) {MathJax.Hub.Config({SVG: {font: \"STIX-Web\"}});}</script>\n",
              "                <script type=\"text/javascript\">window.PlotlyConfig = {MathJaxConfig: 'local'};</script>\n",
              "        <script src=\"https://cdn.plot.ly/plotly-latest.min.js\"></script>    \n",
              "            <div id=\"24ca1916-22f6-4171-8fcd-f861c80a0875\" class=\"plotly-graph-div\" style=\"height:525px; width:100%;\"></div>\n",
              "            <script type=\"text/javascript\">\n",
              "                \n",
              "                    window.PLOTLYENV=window.PLOTLYENV || {};\n",
              "                    \n",
              "                if (document.getElementById(\"24ca1916-22f6-4171-8fcd-f861c80a0875\")) {\n",
              "                    Plotly.newPlot(\n",
              "                        '24ca1916-22f6-4171-8fcd-f861c80a0875',\n",
              "                        [{\"line\": {\"dash\": \"dash\"}, \"name\": \"Prediction of Total Infected\", \"type\": \"scatter\", \"x\": [\"2020-03-02\", \"2020-03-03\", \"2020-03-04\", \"2020-03-05\", \"2020-03-06\", \"2020-03-07\", \"2020-03-08\", \"2020-03-09\", \"2020-03-10\", \"2020-03-11\", \"2020-03-12\", \"2020-03-13\", \"2020-03-14\", \"2020-03-15\", \"2020-03-16\", \"2020-03-17\", \"2020-03-18\", \"2020-03-19\", \"2020-03-20\", \"2020-03-21\", \"2020-03-22\", \"2020-03-23\", \"2020-03-24\", \"2020-03-25\", \"2020-03-26\", \"2020-03-27\", \"2020-03-28\", \"2020-03-29\", \"2020-03-30\", \"2020-03-31\", \"2020-04-01\", \"2020-04-02\", \"2020-04-03\", \"2020-04-04\", \"2020-04-05\", \"2020-04-06\", \"2020-04-07\", \"2020-04-08\", \"2020-04-09\", \"2020-04-10\", \"2020-04-11\", \"2020-04-12\", \"2020-04-13\", \"2020-04-14\", \"2020-04-15\", \"2020-04-16\", \"2020-04-17\", \"2020-04-18\", \"2020-04-19\", \"2020-04-20\", \"2020-04-21\", \"2020-04-22\", \"2020-04-23\", \"2020-04-24\", \"2020-04-25\", \"2020-04-26\", \"2020-04-27\", \"2020-04-28\", \"2020-04-29\", \"2020-04-30\", \"2020-05-01\", \"2020-05-02\", \"2020-05-03\", \"2020-05-04\", \"2020-05-05\", \"2020-05-06\", \"2020-05-07\", \"2020-05-08\", \"2020-05-09\", \"2020-05-10\", \"2020-05-11\", \"2020-05-12\", \"2020-05-13\", \"2020-05-14\", \"2020-05-15\", \"2020-05-16\", \"2020-05-17\", \"2020-05-18\", \"2020-05-19\", \"2020-05-20\", \"2020-05-21\", \"2020-05-22\", \"2020-05-23\", \"2020-05-24\", \"2020-05-25\", \"2020-05-26\", \"2020-05-27\", \"2020-05-28\", \"2020-05-29\", \"2020-05-30\", \"2020-05-31\", \"2020-06-01\", \"2020-06-02\", \"2020-06-03\", \"2020-06-04\", \"2020-06-05\", \"2020-06-06\", \"2020-06-07\", \"2020-06-08\", \"2020-06-09\", \"2020-06-10\", \"2020-06-11\", \"2020-06-12\", \"2020-06-13\", \"2020-06-14\", \"2020-06-15\", \"2020-06-16\", \"2020-06-17\", \"2020-06-18\", \"2020-06-19\", \"2020-06-20\", \"2020-06-21\", \"2020-06-22\", \"2020-06-23\", \"2020-06-24\", \"2020-06-25\", \"2020-06-26\", \"2020-06-27\", \"2020-06-28\", \"2020-06-29\"], \"y\": [2.0, 2.024369836763212, 2.159041938167623, 2.3939407764256195, 2.7258063788710336, 3.1568052919377383, 3.693634350522939, 4.346978250258098, 5.1312236993613505, 6.064361083508074, 7.168024513970419, 8.467634334929443, 9.992615749173765, 11.776672590740656, 13.858099447589503, 16.280116765385138, 19.091215180636357, 22.345494553482332, 26.102983203669442, 30.42992184190096, 35.39899524158212, 41.08949400124533, 47.587387859085844, 54.98529099859166, 63.382299915096084, 72.88368459571318, 83.60041507885956, 95.64850537423636, 109.1481651043677, 124.22274455614564, 140.99746900137313, 159.59796385839672, 180.1485738416657, 202.7704910462296, 227.57971050864626, 254.684841034575, 284.18480541455153, 316.16647130975355, 350.7022598788287, 387.84778456101736, 427.6395760418267, 470.09295074388035, 515.2000818251321, 562.9283290308935, 613.2188796227407, 665.9857492663785, 721.1151831022038, 778.4654876689414, 837.8673157074372, 899.1244143307835, 962.0148356775746, 1026.292597256625, 1091.6897682460276, 1157.9189471204793, 1224.6760861024882, 1291.6436103245628, 1358.4937716678064, 1424.8921748629307, 1490.5014127055074, 1554.9847285567994, 1618.009654434985, 1679.251551666904, 1738.396999648446, 1795.14697183744, 1849.2197534027966, 1900.3535568885502, 1948.308813135197, 1992.8701001132554, 2033.8476968080631, 2071.0787632160977, 2104.4281414931415, 2133.7887803352437, 2159.081798327968, 2180.2562190951235, 2197.288381938469, 2210.1810632962665, 2218.962362579854, 2223.684341809153, 2224.421489818453, 2221.2690310664925, 2214.3411143989797, 2203.7689192907283, 2189.69870293652, 2172.289825695205, 2151.7127826816, 2128.1472391845255, 2101.7801636956747, 2072.8039793600237, 2041.4148248442486, 2007.8109139309581, 1972.1909886546764, 1934.7529044760872, 1895.6923290807913, 1855.2015644361884, 1813.4685019118317, 1770.6756969244936, 1726.9995700094507, 1682.6097271753592, 1637.6683941839178, 1592.3299642162106, 1546.7406431797633, 1501.0381957529873, 1455.3517814862348, 1409.8018658215096, 1364.5002130358826, 1319.5499429879626, 1275.0456419673626, 1231.0735337760404, 1187.7116904615482, 1145.030279216477, 1103.0918463941475, 1061.9516287275756, 1021.6578739625744, 982.2521916385059, 943.7699000443724, 906.240398536963, 869.6875211849261, 834.1299100732302, 799.5813724636957, 766.0512376996048, 733.5447080730906, 702.0631936484227, 671.6046452628275, 642.1638658166287, 613.7328164259134, 586.3009032422341, 559.8552524296597, 534.3809700387126, 509.8613860347148, 486.27828459330414, 463.6121187672558, 441.84220925403804, 420.9469339739967, 400.90389686138667, 381.6900885354858, 363.2820300159399, 345.65590693007096, 328.78768976755725, 312.6532454483591, 297.2284357679701, 282.4892059939704, 268.4116650120124, 254.9721564523369, 242.14732077195853, 229.91415021570413, 218.25003629962163, 207.13281048959084, 196.54077925480274, 186.45275342746845, 176.8480719549746, 167.70662126631885, 159.0088504647973, 150.73578210199491, 142.8690202434425, 135.39075464006527, 128.28376280977344, 121.53140852722677, 115.11763921193668, 109.02698058966473, 103.24453014013648, 97.75594855289852, 92.5474501544188, 87.60579227616847, 82.9182633972322, 78.47267095229245, 74.25732796639684, 70.2610397711121, 66.4730895949248, 62.88322482614582, 59.48164208348892, 56.258972679877296, 53.206268321629295, 50.3149860497724, 47.57697423503035, 44.984457837292, 42.53002431018999, 40.206609818440505, 38.00748520282026, 35.92624289982126, 33.956783563883945, 32.09330335657066, 30.330281561134264, 28.66246825238201, 27.084872775802115, 25.592752190415773, 24.1816003164908, 22.847137124332082, 21.585298298876815, 20.392225401112878, 19.264256415982597, 18.197916477305025, 17.18990895854245, 16.237107066041723, 15.33654570261799, 14.485413629018101, 13.68104599569445, 12.92091715605956, 12.20263379428579, 11.523928400928016, 10.882653003440671, 10.276773146780785, 9.704362186074567, 9.163595837969714, 8.652746969777297, 8.170180643050392, 7.714349384838911, 7.283788674326991, 6.877112662390381, 6.493010093241338, 6.1302404134398065, 5.787630087356946, 5.4640690802766585, 5.158507521155467, 4.869952527629281, 4.5974651998411264, 4.3401577591959, 4.097190828865253, 3.867770856711668, 3.651147665794078, 3.446612140076851, 3.253494015101882, 3.0711597970123563, 2.899010779037, 2.7364811664370587, 2.583036296942431, 2.4381709559565823, 2.301407783911331, 2.1722957520012622, 2.0504087445359724, 1.9353441972304852, 1.8267218054285865, 1.7241823213149237, 1.6273863905085342, 1.536013465876968, 1.4497607868756464, 1.3683423887109327, 1.2914881894305745, 1.2189431146752918, 1.1504662650851751, 1.085830147069606, 1.0248199245486707, 0.9672327207701299, 0.9128769655949741, 0.8615717603387619, 0.8131462933249186, 0.767439281482488, 0.7242984365248365, 0.6835799750460149, 0.6451481413698572, 0.6088747609618134, 0.5746388246195577, 0.5423260838486951, 0.5118286784734066, 0.4830447827344774, 0.45587826427146966, 0.43023837259769065, 0.4060394366274541, 0.3832005802038037, 0.36164545851136237, 0.341302001077003, 0.3221021750863775, 0.30398176208424693, 0.2868801409538604, 0.27074009053113873, 0.25550759770956477, 0.2411316758941614, 0.22756420098282584, 0.21475974859056668, 0.20267544059834114, 0.19127080716571107, 0.18050764969851468, 0.17034991186880483, 0.16076356330504538, 0.15171648406665925, 0.14317835610626145, 0.1351205657296635, 0.12751610612726044, 0.12033948608944976, 0.11356664786888238, 0.10717488516743612, 0.1011427664308647, 0.09545006551584188, 0.09007769262571858, 0.08500762978553159, 0.08022287295322557, 0.07570737367936399, 0.07144598490198542, 0.0674244120903711, 0.06362916407605976, 0.06004750733952424, 0.05666742526437852, 0.0534775770563256, 0.050467258733431684, 0.047626368766530314, 0.0449453742729404, 0.042415277801713794, 0.04002758806147199, 0.037774291971162666, 0.035647826529023784, 0.03364105402465673, 0.03174723906529298, 0.029960024579385867, 0.02827341088787678]}, {\"marker\": {\"symbol\": \"diamond\"}, \"mode\": \"markers\", \"name\": \"Total Infected from kawalcovid.id\", \"type\": \"scatter\", \"x\": [\"2020-03-02\", \"2020-03-03\", \"2020-03-04\", \"2020-03-05\", \"2020-03-06\", \"2020-03-07\", \"2020-03-08\", \"2020-03-09\", \"2020-03-10\", \"2020-03-11\", \"2020-03-12\", \"2020-03-13\", \"2020-03-14\", \"2020-03-15\", \"2020-03-16\", \"2020-03-17\", \"2020-03-18\", \"2020-03-19\", \"2020-03-20\", \"2020-03-21\", \"2020-03-22\", \"2020-03-23\", \"2020-03-24\", \"2020-03-25\", \"2020-03-26\", \"2020-03-27\", \"2020-03-28\", \"2020-03-29\", \"2020-03-30\", \"2020-03-31\", \"2020-04-01\", \"2020-04-02\", \"2020-04-03\", \"2020-04-04\", \"2020-04-05\", \"2020-04-06\", \"2020-04-07\", \"2020-04-08\", \"2020-04-09\", \"2020-04-10\", \"2020-04-11\", \"2020-04-12\", \"2020-04-13\", \"2020-04-14\", \"2020-04-15\", \"2020-04-16\", \"2020-04-17\", \"2020-04-18\", \"2020-04-19\", \"2020-04-20\", \"2020-04-21\", \"2020-04-22\", \"2020-04-23\", \"2020-04-24\", \"2020-04-25\", \"2020-04-26\", \"2020-04-27\", \"2020-04-28\", \"2020-04-29\", \"2020-04-30\", \"2020-05-01\", \"2020-05-02\", \"2020-05-03\", \"2020-05-04\", \"2020-05-05\", \"2020-05-06\", \"2020-05-07\", \"2020-05-08\", \"2020-05-09\", \"2020-05-10\", \"2020-05-11\", \"2020-05-12\", \"2020-05-13\", \"2020-05-14\", \"2020-05-15\", \"2020-05-16\", \"2020-05-17\", \"2020-05-18\", \"2020-05-19\", \"2020-05-20\", \"2020-05-21\", \"2020-05-22\", \"2020-05-23\", \"2020-05-24\", \"2020-05-25\", \"2020-05-26\", \"2020-05-27\", \"2020-05-28\", \"2020-05-29\", \"2020-05-30\", \"2020-05-31\", \"2020-06-01\", \"2020-06-02\", \"2020-06-03\", \"2020-06-04\", \"2020-06-05\", \"2020-06-06\", \"2020-06-07\", \"2020-06-08\", \"2020-06-09\", \"2020-06-10\", \"2020-06-11\", \"2020-06-12\", \"2020-06-13\", \"2020-06-14\", \"2020-06-15\", \"2020-06-16\", \"2020-06-17\", \"2020-06-18\", \"2020-06-19\", \"2020-06-20\", \"2020-06-21\", \"2020-06-22\", \"2020-06-23\", \"2020-06-24\", \"2020-06-25\", \"2020-06-26\", \"2020-06-27\", \"2020-06-28\", \"2020-06-29\"], \"y\": [2.0, 0.0, 0.0, 0.0, 2.0, 0.0, 2.0, 13.0, 8.0, 7.0, 0.0, 35.0, 27.0, 21.0, 17.0, 38.0, 55.0, 82.0, 60.0, 81.0, 64.0, 65.0, 106.0, 105.0, 103.0, 153.0, 109.0, 130.0, 129.0, 114.0, 149.0, 113.0, 196.0, 106.0, 181.0, 218.0, 247.0, 218.0, 337.0, 219.0, 330.0, 399.0, 316.0, 282.0, 297.0, 380.0, 407.0, 325.0, 327.0, 185.0, 375.0]}],\n",
              "                        {\"template\": {\"data\": {\"bar\": [{\"error_x\": {\"color\": \"#2a3f5f\"}, \"error_y\": {\"color\": \"#2a3f5f\"}, \"marker\": {\"line\": {\"color\": \"#E5ECF6\", \"width\": 0.5}}, \"type\": \"bar\"}], \"barpolar\": [{\"marker\": {\"line\": {\"color\": \"#E5ECF6\", \"width\": 0.5}}, \"type\": \"barpolar\"}], \"carpet\": [{\"aaxis\": {\"endlinecolor\": \"#2a3f5f\", \"gridcolor\": \"white\", \"linecolor\": \"white\", \"minorgridcolor\": \"white\", \"startlinecolor\": \"#2a3f5f\"}, \"baxis\": {\"endlinecolor\": \"#2a3f5f\", \"gridcolor\": \"white\", \"linecolor\": \"white\", \"minorgridcolor\": \"white\", \"startlinecolor\": \"#2a3f5f\"}, \"type\": \"carpet\"}], \"choropleth\": [{\"colorbar\": {\"outlinewidth\": 0, \"ticks\": \"\"}, \"type\": \"choropleth\"}], \"contour\": [{\"colorbar\": {\"outlinewidth\": 0, \"ticks\": \"\"}, \"colorscale\": [[0.0, \"#0d0887\"], [0.1111111111111111, \"#46039f\"], [0.2222222222222222, \"#7201a8\"], [0.3333333333333333, \"#9c179e\"], [0.4444444444444444, \"#bd3786\"], [0.5555555555555556, \"#d8576b\"], [0.6666666666666666, \"#ed7953\"], [0.7777777777777778, \"#fb9f3a\"], [0.8888888888888888, \"#fdca26\"], [1.0, \"#f0f921\"]], \"type\": \"contour\"}], \"contourcarpet\": [{\"colorbar\": {\"outlinewidth\": 0, \"ticks\": \"\"}, \"type\": \"contourcarpet\"}], \"heatmap\": [{\"colorbar\": {\"outlinewidth\": 0, \"ticks\": \"\"}, \"colorscale\": [[0.0, \"#0d0887\"], [0.1111111111111111, \"#46039f\"], [0.2222222222222222, \"#7201a8\"], [0.3333333333333333, \"#9c179e\"], [0.4444444444444444, \"#bd3786\"], [0.5555555555555556, \"#d8576b\"], [0.6666666666666666, \"#ed7953\"], [0.7777777777777778, \"#fb9f3a\"], [0.8888888888888888, \"#fdca26\"], [1.0, \"#f0f921\"]], \"type\": \"heatmap\"}], \"heatmapgl\": [{\"colorbar\": {\"outlinewidth\": 0, \"ticks\": \"\"}, \"colorscale\": [[0.0, \"#0d0887\"], [0.1111111111111111, \"#46039f\"], [0.2222222222222222, \"#7201a8\"], [0.3333333333333333, \"#9c179e\"], [0.4444444444444444, \"#bd3786\"], [0.5555555555555556, \"#d8576b\"], [0.6666666666666666, \"#ed7953\"], [0.7777777777777778, \"#fb9f3a\"], [0.8888888888888888, \"#fdca26\"], [1.0, \"#f0f921\"]], \"type\": \"heatmapgl\"}], \"histogram\": [{\"marker\": {\"colorbar\": {\"outlinewidth\": 0, \"ticks\": \"\"}}, \"type\": \"histogram\"}], \"histogram2d\": [{\"colorbar\": {\"outlinewidth\": 0, \"ticks\": \"\"}, \"colorscale\": [[0.0, \"#0d0887\"], [0.1111111111111111, \"#46039f\"], [0.2222222222222222, \"#7201a8\"], [0.3333333333333333, \"#9c179e\"], [0.4444444444444444, \"#bd3786\"], [0.5555555555555556, \"#d8576b\"], [0.6666666666666666, \"#ed7953\"], [0.7777777777777778, \"#fb9f3a\"], [0.8888888888888888, \"#fdca26\"], [1.0, \"#f0f921\"]], \"type\": \"histogram2d\"}], \"histogram2dcontour\": [{\"colorbar\": {\"outlinewidth\": 0, \"ticks\": \"\"}, \"colorscale\": [[0.0, \"#0d0887\"], [0.1111111111111111, \"#46039f\"], [0.2222222222222222, \"#7201a8\"], [0.3333333333333333, \"#9c179e\"], [0.4444444444444444, \"#bd3786\"], [0.5555555555555556, \"#d8576b\"], [0.6666666666666666, \"#ed7953\"], [0.7777777777777778, \"#fb9f3a\"], [0.8888888888888888, \"#fdca26\"], [1.0, \"#f0f921\"]], \"type\": \"histogram2dcontour\"}], \"mesh3d\": [{\"colorbar\": {\"outlinewidth\": 0, \"ticks\": \"\"}, \"type\": \"mesh3d\"}], \"parcoords\": [{\"line\": {\"colorbar\": {\"outlinewidth\": 0, \"ticks\": \"\"}}, \"type\": \"parcoords\"}], \"pie\": [{\"automargin\": true, \"type\": \"pie\"}], \"scatter\": [{\"marker\": {\"colorbar\": {\"outlinewidth\": 0, \"ticks\": \"\"}}, \"type\": \"scatter\"}], \"scatter3d\": [{\"line\": {\"colorbar\": {\"outlinewidth\": 0, \"ticks\": \"\"}}, \"marker\": {\"colorbar\": {\"outlinewidth\": 0, \"ticks\": \"\"}}, \"type\": \"scatter3d\"}], \"scattercarpet\": [{\"marker\": {\"colorbar\": {\"outlinewidth\": 0, \"ticks\": \"\"}}, \"type\": \"scattercarpet\"}], \"scattergeo\": [{\"marker\": {\"colorbar\": {\"outlinewidth\": 0, \"ticks\": \"\"}}, \"type\": \"scattergeo\"}], \"scattergl\": [{\"marker\": {\"colorbar\": {\"outlinewidth\": 0, \"ticks\": \"\"}}, \"type\": \"scattergl\"}], \"scattermapbox\": [{\"marker\": {\"colorbar\": {\"outlinewidth\": 0, \"ticks\": \"\"}}, \"type\": \"scattermapbox\"}], \"scatterpolar\": [{\"marker\": {\"colorbar\": {\"outlinewidth\": 0, \"ticks\": \"\"}}, \"type\": \"scatterpolar\"}], \"scatterpolargl\": [{\"marker\": {\"colorbar\": {\"outlinewidth\": 0, \"ticks\": \"\"}}, \"type\": \"scatterpolargl\"}], \"scatterternary\": [{\"marker\": {\"colorbar\": {\"outlinewidth\": 0, \"ticks\": \"\"}}, \"type\": \"scatterternary\"}], \"surface\": [{\"colorbar\": {\"outlinewidth\": 0, \"ticks\": \"\"}, \"colorscale\": [[0.0, \"#0d0887\"], [0.1111111111111111, \"#46039f\"], [0.2222222222222222, \"#7201a8\"], [0.3333333333333333, \"#9c179e\"], [0.4444444444444444, \"#bd3786\"], [0.5555555555555556, \"#d8576b\"], [0.6666666666666666, \"#ed7953\"], [0.7777777777777778, \"#fb9f3a\"], [0.8888888888888888, \"#fdca26\"], [1.0, \"#f0f921\"]], \"type\": \"surface\"}], \"table\": [{\"cells\": {\"fill\": {\"color\": \"#EBF0F8\"}, \"line\": {\"color\": \"white\"}}, \"header\": {\"fill\": {\"color\": \"#C8D4E3\"}, \"line\": {\"color\": \"white\"}}, \"type\": \"table\"}]}, \"layout\": {\"annotationdefaults\": {\"arrowcolor\": \"#2a3f5f\", \"arrowhead\": 0, \"arrowwidth\": 1}, \"coloraxis\": {\"colorbar\": {\"outlinewidth\": 0, \"ticks\": \"\"}}, \"colorscale\": {\"diverging\": [[0, \"#8e0152\"], [0.1, \"#c51b7d\"], [0.2, \"#de77ae\"], [0.3, \"#f1b6da\"], [0.4, \"#fde0ef\"], [0.5, \"#f7f7f7\"], [0.6, \"#e6f5d0\"], [0.7, \"#b8e186\"], [0.8, \"#7fbc41\"], [0.9, \"#4d9221\"], [1, \"#276419\"]], \"sequential\": [[0.0, \"#0d0887\"], [0.1111111111111111, \"#46039f\"], [0.2222222222222222, \"#7201a8\"], [0.3333333333333333, \"#9c179e\"], [0.4444444444444444, \"#bd3786\"], [0.5555555555555556, \"#d8576b\"], [0.6666666666666666, \"#ed7953\"], [0.7777777777777778, \"#fb9f3a\"], [0.8888888888888888, \"#fdca26\"], [1.0, \"#f0f921\"]], \"sequentialminus\": [[0.0, \"#0d0887\"], [0.1111111111111111, \"#46039f\"], [0.2222222222222222, \"#7201a8\"], [0.3333333333333333, \"#9c179e\"], [0.4444444444444444, \"#bd3786\"], [0.5555555555555556, \"#d8576b\"], [0.6666666666666666, \"#ed7953\"], [0.7777777777777778, \"#fb9f3a\"], [0.8888888888888888, \"#fdca26\"], [1.0, \"#f0f921\"]]}, \"colorway\": [\"#636efa\", \"#EF553B\", \"#00cc96\", \"#ab63fa\", \"#FFA15A\", \"#19d3f3\", \"#FF6692\", \"#B6E880\", \"#FF97FF\", \"#FECB52\"], \"font\": {\"color\": \"#2a3f5f\"}, \"geo\": {\"bgcolor\": \"white\", \"lakecolor\": \"white\", \"landcolor\": \"#E5ECF6\", \"showlakes\": true, \"showland\": true, \"subunitcolor\": \"white\"}, \"hoverlabel\": {\"align\": \"left\"}, \"hovermode\": \"closest\", \"mapbox\": {\"style\": \"light\"}, \"paper_bgcolor\": \"white\", \"plot_bgcolor\": \"#E5ECF6\", \"polar\": {\"angularaxis\": {\"gridcolor\": \"white\", \"linecolor\": \"white\", \"ticks\": \"\"}, \"bgcolor\": \"#E5ECF6\", \"radialaxis\": {\"gridcolor\": \"white\", \"linecolor\": \"white\", \"ticks\": \"\"}}, \"scene\": {\"xaxis\": {\"backgroundcolor\": \"#E5ECF6\", \"gridcolor\": \"white\", \"gridwidth\": 2, \"linecolor\": \"white\", \"showbackground\": true, \"ticks\": \"\", \"zerolinecolor\": \"white\"}, \"yaxis\": {\"backgroundcolor\": \"#E5ECF6\", \"gridcolor\": \"white\", \"gridwidth\": 2, \"linecolor\": \"white\", \"showbackground\": true, \"ticks\": \"\", \"zerolinecolor\": \"white\"}, \"zaxis\": {\"backgroundcolor\": \"#E5ECF6\", \"gridcolor\": \"white\", \"gridwidth\": 2, \"linecolor\": \"white\", \"showbackground\": true, \"ticks\": \"\", \"zerolinecolor\": \"white\"}}, \"shapedefaults\": {\"line\": {\"color\": \"#2a3f5f\"}}, \"ternary\": {\"aaxis\": {\"gridcolor\": \"white\", \"linecolor\": \"white\", \"ticks\": \"\"}, \"baxis\": {\"gridcolor\": \"white\", \"linecolor\": \"white\", \"ticks\": \"\"}, \"bgcolor\": \"#E5ECF6\", \"caxis\": {\"gridcolor\": \"white\", \"linecolor\": \"white\", \"ticks\": \"\"}}, \"title\": {\"x\": 0.05}, \"xaxis\": {\"automargin\": true, \"gridcolor\": \"white\", \"linecolor\": \"white\", \"ticks\": \"\", \"title\": {\"standoff\": 15}, \"zerolinecolor\": \"white\", \"zerolinewidth\": 2}, \"yaxis\": {\"automargin\": true, \"gridcolor\": \"white\", \"linecolor\": \"white\", \"ticks\": \"\", \"title\": {\"standoff\": 15}, \"zerolinecolor\": \"white\", \"zerolinewidth\": 2}}}, \"title\": {\"text\": \"SEIRD Model for Coronavirus in Indonesia\", \"x\": 0.5}, \"xaxis\": {\"title\": {\"text\": \"Date\"}}, \"yaxis\": {\"title\": {\"text\": \"Total Infected\"}}},\n",
              "                        {\"responsive\": true}\n",
              "                    ).then(function(){\n",
              "                            \n",
              "var gd = document.getElementById('24ca1916-22f6-4171-8fcd-f861c80a0875');\n",
              "var x = new MutationObserver(function (mutations, observer) {{\n",
              "        var display = window.getComputedStyle(gd).display;\n",
              "        if (!display || display === 'none') {{\n",
              "            console.log([gd, 'removed!']);\n",
              "            Plotly.purge(gd);\n",
              "            observer.disconnect();\n",
              "        }}\n",
              "}});\n",
              "\n",
              "// Listen for the removal of the full notebook cells\n",
              "var notebookContainer = gd.closest('#notebook-container');\n",
              "if (notebookContainer) {{\n",
              "    x.observe(notebookContainer, {childList: true});\n",
              "}}\n",
              "\n",
              "// Listen for the clearing of the current output cell\n",
              "var outputEl = gd.closest('.output');\n",
              "if (outputEl) {{\n",
              "    x.observe(outputEl, {childList: true});\n",
              "}}\n",
              "\n",
              "                        })\n",
              "                };\n",
              "                \n",
              "            </script>\n",
              "        </div>\n",
              "</body>\n",
              "</html>"
            ]
          },
          "metadata": {
            "tags": []
          }
        }
      ]
    },
    {
      "cell_type": "code",
      "metadata": {
        "id": "qn36M-3LmKtE",
        "colab_type": "code",
        "colab": {}
      },
      "source": [
        ""
      ],
      "execution_count": 0,
      "outputs": []
    }
  ]
}